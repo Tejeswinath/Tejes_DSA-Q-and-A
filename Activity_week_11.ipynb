{
 "cells": [
  {
   "cell_type": "code",
   "execution_count": 1,
   "id": "0ad16015",
   "metadata": {},
   "outputs": [],
   "source": [
    "import numpy as np\n",
    "import pandas as pd\n",
    "import matplotlib.pyplot as plt\n",
    "import seaborn as sns"
   ]
  },
  {
   "cell_type": "code",
   "execution_count": 2,
   "id": "a564c250",
   "metadata": {},
   "outputs": [
    {
     "data": {
      "text/html": [
       "<div>\n",
       "<style scoped>\n",
       "    .dataframe tbody tr th:only-of-type {\n",
       "        vertical-align: middle;\n",
       "    }\n",
       "\n",
       "    .dataframe tbody tr th {\n",
       "        vertical-align: top;\n",
       "    }\n",
       "\n",
       "    .dataframe thead th {\n",
       "        text-align: right;\n",
       "    }\n",
       "</style>\n",
       "<table border=\"1\" class=\"dataframe\">\n",
       "  <thead>\n",
       "    <tr style=\"text-align: right;\">\n",
       "      <th></th>\n",
       "      <th>school</th>\n",
       "      <th>sex</th>\n",
       "      <th>age</th>\n",
       "      <th>address</th>\n",
       "      <th>famsize</th>\n",
       "      <th>Pstatus</th>\n",
       "      <th>Medu</th>\n",
       "      <th>Fedu</th>\n",
       "      <th>Mjob</th>\n",
       "      <th>Fjob</th>\n",
       "      <th>...</th>\n",
       "      <th>internet</th>\n",
       "      <th>romantic</th>\n",
       "      <th>famrel</th>\n",
       "      <th>freetime</th>\n",
       "      <th>goout</th>\n",
       "      <th>Dalc</th>\n",
       "      <th>Walc</th>\n",
       "      <th>health</th>\n",
       "      <th>absences</th>\n",
       "      <th>passed</th>\n",
       "    </tr>\n",
       "  </thead>\n",
       "  <tbody>\n",
       "    <tr>\n",
       "      <th>0</th>\n",
       "      <td>GP</td>\n",
       "      <td>F</td>\n",
       "      <td>18</td>\n",
       "      <td>U</td>\n",
       "      <td>GT3</td>\n",
       "      <td>A</td>\n",
       "      <td>4</td>\n",
       "      <td>4</td>\n",
       "      <td>at_home</td>\n",
       "      <td>teacher</td>\n",
       "      <td>...</td>\n",
       "      <td>no</td>\n",
       "      <td>no</td>\n",
       "      <td>4</td>\n",
       "      <td>3</td>\n",
       "      <td>4</td>\n",
       "      <td>1</td>\n",
       "      <td>1</td>\n",
       "      <td>3</td>\n",
       "      <td>6</td>\n",
       "      <td>no</td>\n",
       "    </tr>\n",
       "    <tr>\n",
       "      <th>1</th>\n",
       "      <td>GP</td>\n",
       "      <td>F</td>\n",
       "      <td>17</td>\n",
       "      <td>U</td>\n",
       "      <td>GT3</td>\n",
       "      <td>T</td>\n",
       "      <td>1</td>\n",
       "      <td>1</td>\n",
       "      <td>at_home</td>\n",
       "      <td>other</td>\n",
       "      <td>...</td>\n",
       "      <td>yes</td>\n",
       "      <td>no</td>\n",
       "      <td>5</td>\n",
       "      <td>3</td>\n",
       "      <td>3</td>\n",
       "      <td>1</td>\n",
       "      <td>1</td>\n",
       "      <td>3</td>\n",
       "      <td>4</td>\n",
       "      <td>no</td>\n",
       "    </tr>\n",
       "    <tr>\n",
       "      <th>2</th>\n",
       "      <td>GP</td>\n",
       "      <td>F</td>\n",
       "      <td>15</td>\n",
       "      <td>U</td>\n",
       "      <td>LE3</td>\n",
       "      <td>T</td>\n",
       "      <td>1</td>\n",
       "      <td>1</td>\n",
       "      <td>at_home</td>\n",
       "      <td>other</td>\n",
       "      <td>...</td>\n",
       "      <td>yes</td>\n",
       "      <td>no</td>\n",
       "      <td>4</td>\n",
       "      <td>3</td>\n",
       "      <td>2</td>\n",
       "      <td>2</td>\n",
       "      <td>3</td>\n",
       "      <td>3</td>\n",
       "      <td>10</td>\n",
       "      <td>yes</td>\n",
       "    </tr>\n",
       "    <tr>\n",
       "      <th>3</th>\n",
       "      <td>GP</td>\n",
       "      <td>F</td>\n",
       "      <td>15</td>\n",
       "      <td>U</td>\n",
       "      <td>GT3</td>\n",
       "      <td>T</td>\n",
       "      <td>4</td>\n",
       "      <td>2</td>\n",
       "      <td>health</td>\n",
       "      <td>services</td>\n",
       "      <td>...</td>\n",
       "      <td>yes</td>\n",
       "      <td>yes</td>\n",
       "      <td>3</td>\n",
       "      <td>2</td>\n",
       "      <td>2</td>\n",
       "      <td>1</td>\n",
       "      <td>1</td>\n",
       "      <td>5</td>\n",
       "      <td>2</td>\n",
       "      <td>yes</td>\n",
       "    </tr>\n",
       "    <tr>\n",
       "      <th>4</th>\n",
       "      <td>GP</td>\n",
       "      <td>F</td>\n",
       "      <td>16</td>\n",
       "      <td>U</td>\n",
       "      <td>GT3</td>\n",
       "      <td>T</td>\n",
       "      <td>3</td>\n",
       "      <td>3</td>\n",
       "      <td>other</td>\n",
       "      <td>other</td>\n",
       "      <td>...</td>\n",
       "      <td>no</td>\n",
       "      <td>no</td>\n",
       "      <td>4</td>\n",
       "      <td>3</td>\n",
       "      <td>2</td>\n",
       "      <td>1</td>\n",
       "      <td>2</td>\n",
       "      <td>5</td>\n",
       "      <td>4</td>\n",
       "      <td>yes</td>\n",
       "    </tr>\n",
       "    <tr>\n",
       "      <th>5</th>\n",
       "      <td>GP</td>\n",
       "      <td>M</td>\n",
       "      <td>16</td>\n",
       "      <td>U</td>\n",
       "      <td>LE3</td>\n",
       "      <td>T</td>\n",
       "      <td>4</td>\n",
       "      <td>3</td>\n",
       "      <td>services</td>\n",
       "      <td>other</td>\n",
       "      <td>...</td>\n",
       "      <td>yes</td>\n",
       "      <td>no</td>\n",
       "      <td>5</td>\n",
       "      <td>4</td>\n",
       "      <td>2</td>\n",
       "      <td>1</td>\n",
       "      <td>2</td>\n",
       "      <td>5</td>\n",
       "      <td>10</td>\n",
       "      <td>yes</td>\n",
       "    </tr>\n",
       "    <tr>\n",
       "      <th>6</th>\n",
       "      <td>GP</td>\n",
       "      <td>M</td>\n",
       "      <td>16</td>\n",
       "      <td>U</td>\n",
       "      <td>LE3</td>\n",
       "      <td>T</td>\n",
       "      <td>2</td>\n",
       "      <td>2</td>\n",
       "      <td>other</td>\n",
       "      <td>other</td>\n",
       "      <td>...</td>\n",
       "      <td>yes</td>\n",
       "      <td>no</td>\n",
       "      <td>4</td>\n",
       "      <td>4</td>\n",
       "      <td>4</td>\n",
       "      <td>1</td>\n",
       "      <td>1</td>\n",
       "      <td>3</td>\n",
       "      <td>0</td>\n",
       "      <td>yes</td>\n",
       "    </tr>\n",
       "    <tr>\n",
       "      <th>7</th>\n",
       "      <td>GP</td>\n",
       "      <td>F</td>\n",
       "      <td>17</td>\n",
       "      <td>U</td>\n",
       "      <td>GT3</td>\n",
       "      <td>A</td>\n",
       "      <td>4</td>\n",
       "      <td>4</td>\n",
       "      <td>other</td>\n",
       "      <td>teacher</td>\n",
       "      <td>...</td>\n",
       "      <td>no</td>\n",
       "      <td>no</td>\n",
       "      <td>4</td>\n",
       "      <td>1</td>\n",
       "      <td>4</td>\n",
       "      <td>1</td>\n",
       "      <td>1</td>\n",
       "      <td>1</td>\n",
       "      <td>6</td>\n",
       "      <td>no</td>\n",
       "    </tr>\n",
       "    <tr>\n",
       "      <th>8</th>\n",
       "      <td>GP</td>\n",
       "      <td>M</td>\n",
       "      <td>15</td>\n",
       "      <td>U</td>\n",
       "      <td>LE3</td>\n",
       "      <td>A</td>\n",
       "      <td>3</td>\n",
       "      <td>2</td>\n",
       "      <td>services</td>\n",
       "      <td>other</td>\n",
       "      <td>...</td>\n",
       "      <td>yes</td>\n",
       "      <td>no</td>\n",
       "      <td>4</td>\n",
       "      <td>2</td>\n",
       "      <td>2</td>\n",
       "      <td>1</td>\n",
       "      <td>1</td>\n",
       "      <td>1</td>\n",
       "      <td>0</td>\n",
       "      <td>yes</td>\n",
       "    </tr>\n",
       "    <tr>\n",
       "      <th>9</th>\n",
       "      <td>GP</td>\n",
       "      <td>M</td>\n",
       "      <td>15</td>\n",
       "      <td>U</td>\n",
       "      <td>GT3</td>\n",
       "      <td>T</td>\n",
       "      <td>3</td>\n",
       "      <td>4</td>\n",
       "      <td>other</td>\n",
       "      <td>other</td>\n",
       "      <td>...</td>\n",
       "      <td>yes</td>\n",
       "      <td>no</td>\n",
       "      <td>5</td>\n",
       "      <td>5</td>\n",
       "      <td>1</td>\n",
       "      <td>1</td>\n",
       "      <td>1</td>\n",
       "      <td>5</td>\n",
       "      <td>0</td>\n",
       "      <td>yes</td>\n",
       "    </tr>\n",
       "  </tbody>\n",
       "</table>\n",
       "<p>10 rows × 31 columns</p>\n",
       "</div>"
      ],
      "text/plain": [
       "  school sex  age address famsize Pstatus  Medu  Fedu      Mjob      Fjob  \\\n",
       "0     GP   F   18       U     GT3       A     4     4   at_home   teacher   \n",
       "1     GP   F   17       U     GT3       T     1     1   at_home     other   \n",
       "2     GP   F   15       U     LE3       T     1     1   at_home     other   \n",
       "3     GP   F   15       U     GT3       T     4     2    health  services   \n",
       "4     GP   F   16       U     GT3       T     3     3     other     other   \n",
       "5     GP   M   16       U     LE3       T     4     3  services     other   \n",
       "6     GP   M   16       U     LE3       T     2     2     other     other   \n",
       "7     GP   F   17       U     GT3       A     4     4     other   teacher   \n",
       "8     GP   M   15       U     LE3       A     3     2  services     other   \n",
       "9     GP   M   15       U     GT3       T     3     4     other     other   \n",
       "\n",
       "   ... internet romantic  famrel  freetime  goout Dalc Walc health absences  \\\n",
       "0  ...       no       no       4         3      4    1    1      3        6   \n",
       "1  ...      yes       no       5         3      3    1    1      3        4   \n",
       "2  ...      yes       no       4         3      2    2    3      3       10   \n",
       "3  ...      yes      yes       3         2      2    1    1      5        2   \n",
       "4  ...       no       no       4         3      2    1    2      5        4   \n",
       "5  ...      yes       no       5         4      2    1    2      5       10   \n",
       "6  ...      yes       no       4         4      4    1    1      3        0   \n",
       "7  ...       no       no       4         1      4    1    1      1        6   \n",
       "8  ...      yes       no       4         2      2    1    1      1        0   \n",
       "9  ...      yes       no       5         5      1    1    1      5        0   \n",
       "\n",
       "  passed  \n",
       "0     no  \n",
       "1     no  \n",
       "2    yes  \n",
       "3    yes  \n",
       "4    yes  \n",
       "5    yes  \n",
       "6    yes  \n",
       "7     no  \n",
       "8    yes  \n",
       "9    yes  \n",
       "\n",
       "[10 rows x 31 columns]"
      ]
     },
     "execution_count": 2,
     "metadata": {},
     "output_type": "execute_result"
    }
   ],
   "source": [
    "data=pd.read_csv(r\"C:\\Users\\Tejes\\Downloads\\student-data.csv\")\n",
    "data.head(10)"
   ]
  },
  {
   "cell_type": "markdown",
   "id": "a9b91319",
   "metadata": {},
   "source": [
    "#  Data Exploration"
   ]
  },
  {
   "cell_type": "code",
   "execution_count": 4,
   "id": "255beb1c",
   "metadata": {},
   "outputs": [
    {
     "name": "stdout",
     "output_type": "stream",
     "text": [
      "<class 'pandas.core.frame.DataFrame'>\n",
      "RangeIndex: 395 entries, 0 to 394\n",
      "Data columns (total 31 columns):\n",
      " #   Column      Non-Null Count  Dtype \n",
      "---  ------      --------------  ----- \n",
      " 0   school      395 non-null    object\n",
      " 1   sex         395 non-null    object\n",
      " 2   age         395 non-null    int64 \n",
      " 3   address     395 non-null    object\n",
      " 4   famsize     395 non-null    object\n",
      " 5   Pstatus     395 non-null    object\n",
      " 6   Medu        395 non-null    int64 \n",
      " 7   Fedu        395 non-null    int64 \n",
      " 8   Mjob        395 non-null    object\n",
      " 9   Fjob        395 non-null    object\n",
      " 10  reason      395 non-null    object\n",
      " 11  guardian    395 non-null    object\n",
      " 12  traveltime  395 non-null    int64 \n",
      " 13  studytime   395 non-null    int64 \n",
      " 14  failures    395 non-null    int64 \n",
      " 15  schoolsup   395 non-null    object\n",
      " 16  famsup      395 non-null    object\n",
      " 17  paid        395 non-null    object\n",
      " 18  activities  395 non-null    object\n",
      " 19  nursery     395 non-null    object\n",
      " 20  higher      395 non-null    object\n",
      " 21  internet    395 non-null    object\n",
      " 22  romantic    395 non-null    object\n",
      " 23  famrel      395 non-null    int64 \n",
      " 24  freetime    395 non-null    int64 \n",
      " 25  goout       395 non-null    int64 \n",
      " 26  Dalc        395 non-null    int64 \n",
      " 27  Walc        395 non-null    int64 \n",
      " 28  health      395 non-null    int64 \n",
      " 29  absences    395 non-null    int64 \n",
      " 30  passed      395 non-null    object\n",
      "dtypes: int64(13), object(18)\n",
      "memory usage: 95.8+ KB\n"
     ]
    }
   ],
   "source": [
    "data.info()"
   ]
  },
  {
   "cell_type": "code",
   "execution_count": 6,
   "id": "c3d68d6a",
   "metadata": {},
   "outputs": [
    {
     "data": {
      "text/plain": [
       "(395, 31)"
      ]
     },
     "execution_count": 6,
     "metadata": {},
     "output_type": "execute_result"
    }
   ],
   "source": [
    "data.shape"
   ]
  },
  {
   "cell_type": "code",
   "execution_count": 7,
   "id": "324f8962",
   "metadata": {},
   "outputs": [
    {
     "data": {
      "text/plain": [
       "school        0\n",
       "sex           0\n",
       "age           0\n",
       "address       0\n",
       "famsize       0\n",
       "Pstatus       0\n",
       "Medu          0\n",
       "Fedu          0\n",
       "Mjob          0\n",
       "Fjob          0\n",
       "reason        0\n",
       "guardian      0\n",
       "traveltime    0\n",
       "studytime     0\n",
       "failures      0\n",
       "schoolsup     0\n",
       "famsup        0\n",
       "paid          0\n",
       "activities    0\n",
       "nursery       0\n",
       "higher        0\n",
       "internet      0\n",
       "romantic      0\n",
       "famrel        0\n",
       "freetime      0\n",
       "goout         0\n",
       "Dalc          0\n",
       "Walc          0\n",
       "health        0\n",
       "absences      0\n",
       "passed        0\n",
       "dtype: int64"
      ]
     },
     "execution_count": 7,
     "metadata": {},
     "output_type": "execute_result"
    }
   ],
   "source": [
    "data.isna().sum()"
   ]
  },
  {
   "cell_type": "code",
   "execution_count": 9,
   "id": "7cf20c50",
   "metadata": {},
   "outputs": [
    {
     "name": "stdout",
     "output_type": "stream",
     "text": [
      "Total Students:  395\n",
      "No. of Features:  31\n",
      "No. of Passed Students:  265\n",
      "No. of Students did not Graduate:  130\n",
      "Graduation Percentage:  67.08860759493672\n"
     ]
    }
   ],
   "source": [
    "# Calculate no. of students\n",
    "num_students = len(data.index)\n",
    "\n",
    "# Calculate passing students\n",
    "num_passed = len(data[data['passed']=='yes'])\n",
    "\n",
    "# Calculate number of features\n",
    "num_features = len(data.columns)\n",
    "\n",
    "# Calculate no. of failed\n",
    "num_failed = num_students-num_passed\n",
    "\n",
    "# Calculate no. of graduation rate\n",
    "grad_rate = (num_passed/num_students)*100\n",
    "print('Total Students: ',num_students)\n",
    "print('No. of Features: ',num_features)\n",
    "print('No. of Passed Students: ',num_passed)\n",
    "print('No. of Students did not Graduate: ',num_failed)\n",
    "print('Graduation Percentage: ',grad_rate)\n",
    "      "
   ]
  },
  {
   "cell_type": "markdown",
   "id": "654f5bae",
   "metadata": {},
   "source": [
    "# Data Preprocessing "
   ]
  },
  {
   "cell_type": "code",
   "execution_count": 30,
   "id": "a86b32b6",
   "metadata": {},
   "outputs": [
    {
     "name": "stdout",
     "output_type": "stream",
     "text": [
      "Features Selected     school sex  age address famsize Pstatus  Medu  Fedu      Mjob      Fjob  \\\n",
      "0       GP   F   18       U     GT3       A     4     4   at_home   teacher   \n",
      "1       GP   F   17       U     GT3       T     1     1   at_home     other   \n",
      "2       GP   F   15       U     LE3       T     1     1   at_home     other   \n",
      "3       GP   F   15       U     GT3       T     4     2    health  services   \n",
      "4       GP   F   16       U     GT3       T     3     3     other     other   \n",
      "..     ...  ..  ...     ...     ...     ...   ...   ...       ...       ...   \n",
      "390     MS   M   20       U     LE3       A     2     2  services  services   \n",
      "391     MS   M   17       U     LE3       T     3     1  services  services   \n",
      "392     MS   M   21       R     GT3       T     1     1     other     other   \n",
      "393     MS   M   18       R     LE3       T     3     2  services     other   \n",
      "394     MS   M   19       U     LE3       T     1     1     other   at_home   \n",
      "\n",
      "     ... higher internet  romantic  famrel  freetime goout Dalc Walc health  \\\n",
      "0    ...    yes       no        no       4         3     4    1    1      3   \n",
      "1    ...    yes      yes        no       5         3     3    1    1      3   \n",
      "2    ...    yes      yes        no       4         3     2    2    3      3   \n",
      "3    ...    yes      yes       yes       3         2     2    1    1      5   \n",
      "4    ...    yes       no        no       4         3     2    1    2      5   \n",
      "..   ...    ...      ...       ...     ...       ...   ...  ...  ...    ...   \n",
      "390  ...    yes       no        no       5         5     4    4    5      4   \n",
      "391  ...    yes      yes        no       2         4     5    3    4      2   \n",
      "392  ...    yes       no        no       5         5     3    3    3      3   \n",
      "393  ...    yes      yes        no       4         4     1    3    4      5   \n",
      "394  ...    yes      yes        no       3         2     3    3    3      5   \n",
      "\n",
      "    absences  \n",
      "0          6  \n",
      "1          4  \n",
      "2         10  \n",
      "3          2  \n",
      "4          4  \n",
      "..       ...  \n",
      "390       11  \n",
      "391        3  \n",
      "392        3  \n",
      "393        0  \n",
      "394        5  \n",
      "\n",
      "[395 rows x 30 columns]\n",
      "Target Feature 0       no\n",
      "1       no\n",
      "2      yes\n",
      "3      yes\n",
      "4      yes\n",
      "      ... \n",
      "390     no\n",
      "391    yes\n",
      "392     no\n",
      "393    yes\n",
      "394     no\n",
      "Name: passed, Length: 395, dtype: object\n"
     ]
    }
   ],
   "source": [
    "X=data.drop('passed',axis=1) #------------ feaatures(independent variable)\n",
    "y=data['passed'] # ----------------------- target(dependent variable)\n",
    "print('Features Selected',X)\n",
    "print('Target Feature',y)"
   ]
  },
  {
   "cell_type": "code",
   "execution_count": 31,
   "id": "d00a8146",
   "metadata": {},
   "outputs": [
    {
     "name": "stdout",
     "output_type": "stream",
     "text": [
      "  school sex  age address famsize Pstatus  Medu  Fedu     Mjob      Fjob  ...  \\\n",
      "0     GP   F   18       U     GT3       A     4     4  at_home   teacher  ...   \n",
      "1     GP   F   17       U     GT3       T     1     1  at_home     other  ...   \n",
      "2     GP   F   15       U     LE3       T     1     1  at_home     other  ...   \n",
      "3     GP   F   15       U     GT3       T     4     2   health  services  ...   \n",
      "4     GP   F   16       U     GT3       T     3     3    other     other  ...   \n",
      "\n",
      "  higher internet  romantic  famrel  freetime  goout  Dalc  Walc  health  \\\n",
      "0      1        0         0       4         3      4     1     1       3   \n",
      "1      1        1         0       5         3      3     1     1       3   \n",
      "2      1        1         0       4         3      2     2     3       3   \n",
      "3      1        1         1       3         2      2     1     1       5   \n",
      "4      1        0         0       4         3      2     1     2       5   \n",
      "\n",
      "   absences  \n",
      "0         6  \n",
      "1         4  \n",
      "2        10  \n",
      "3         2  \n",
      "4         4  \n",
      "\n",
      "[5 rows x 30 columns]\n"
     ]
    }
   ],
   "source": [
    "for i in X[['higher','internet','romantic']]:\n",
    "    X=X.replace(['yes', 'no'], [1, 0])\n",
    "print(X.head())"
   ]
  },
  {
   "cell_type": "code",
   "execution_count": 32,
   "id": "89c216ea",
   "metadata": {},
   "outputs": [
    {
     "name": "stdout",
     "output_type": "stream",
     "text": [
      "   age  Medu  Fedu  traveltime  studytime  failures  schoolsup  famsup  paid  \\\n",
      "0   18     4     4           2          2         0          1       0     0   \n",
      "1   17     1     1           1          2         0          0       1     0   \n",
      "2   15     1     1           1          2         3          1       0     1   \n",
      "3   15     4     2           1          3         0          0       1     1   \n",
      "4   16     3     3           1          2         0          0       1     1   \n",
      "\n",
      "   activities  ...  Mjob_at_home  Mjob_health  Mjob_other  Mjob_services  \\\n",
      "0           0  ...             1            0           0              0   \n",
      "1           0  ...             1            0           0              0   \n",
      "2           0  ...             1            0           0              0   \n",
      "3           1  ...             0            1           0              0   \n",
      "4           0  ...             0            0           1              0   \n",
      "\n",
      "   Mjob_teacher  Fjob_at_home  Fjob_health  Fjob_other  Fjob_services  \\\n",
      "0             0             0            0           0              0   \n",
      "1             0             0            0           1              0   \n",
      "2             0             0            0           1              0   \n",
      "3             0             0            0           0              1   \n",
      "4             0             0            0           1              0   \n",
      "\n",
      "   Fjob_teacher  \n",
      "0             1  \n",
      "1             0  \n",
      "2             0  \n",
      "3             0  \n",
      "4             0  \n",
      "\n",
      "[5 rows x 48 columns]\n",
      "age                  int64\n",
      "Medu                 int64\n",
      "Fedu                 int64\n",
      "traveltime           int64\n",
      "studytime            int64\n",
      "failures             int64\n",
      "schoolsup            int64\n",
      "famsup               int64\n",
      "paid                 int64\n",
      "activities           int64\n",
      "nursery              int64\n",
      "higher               int64\n",
      "internet             int64\n",
      "romantic             int64\n",
      "famrel               int64\n",
      "freetime             int64\n",
      "goout                int64\n",
      "Dalc                 int64\n",
      "Walc                 int64\n",
      "health               int64\n",
      "absences             int64\n",
      "school_GP            uint8\n",
      "school_MS            uint8\n",
      "sex_F                uint8\n",
      "sex_M                uint8\n",
      "address_R            uint8\n",
      "address_U            uint8\n",
      "reason_course        uint8\n",
      "reason_home          uint8\n",
      "reason_other         uint8\n",
      "reason_reputation    uint8\n",
      "guardian_father      uint8\n",
      "guardian_mother      uint8\n",
      "guardian_other       uint8\n",
      "famsize_GT3          uint8\n",
      "famsize_LE3          uint8\n",
      "Pstatus_A            uint8\n",
      "Pstatus_T            uint8\n",
      "Mjob_at_home         uint8\n",
      "Mjob_health          uint8\n",
      "Mjob_other           uint8\n",
      "Mjob_services        uint8\n",
      "Mjob_teacher         uint8\n",
      "Fjob_at_home         uint8\n",
      "Fjob_health          uint8\n",
      "Fjob_other           uint8\n",
      "Fjob_services        uint8\n",
      "Fjob_teacher         uint8\n",
      "dtype: object\n"
     ]
    }
   ],
   "source": [
    "X = pd.get_dummies(X,columns=['school','sex','address','reason','guardian','famsize','Pstatus', 'Mjob','Fjob'])\n",
    "print(X.head())\n",
    "print(X.dtypes)\n",
    "\n"
   ]
  },
  {
   "cell_type": "code",
   "execution_count": 33,
   "id": "c8687f3f",
   "metadata": {},
   "outputs": [],
   "source": [
    "from sklearn.model_selection import train_test_split\n",
    "X_train,X_test,y_train,y_test=train_test_split(X,y,random_state=42,test_size=0.2)"
   ]
  },
  {
   "cell_type": "code",
   "execution_count": 34,
   "id": "7353763d",
   "metadata": {},
   "outputs": [
    {
     "data": {
      "text/plain": [
       "(316, 48)"
      ]
     },
     "execution_count": 34,
     "metadata": {},
     "output_type": "execute_result"
    }
   ],
   "source": [
    "X_train.shape"
   ]
  },
  {
   "cell_type": "markdown",
   "id": "13ba70f1",
   "metadata": {},
   "source": [
    "# Applying KNN Model"
   ]
  },
  {
   "cell_type": "code",
   "execution_count": 35,
   "id": "0d4225d9",
   "metadata": {},
   "outputs": [],
   "source": [
    "from sklearn.neighbors import KNeighborsClassifier\n",
    "from sklearn.metrics import confusion_matrix,accuracy_score,precision_score,recall_score,f1_score\n",
    "acc_values=[]\n",
    "neighbors=np.arange(3,15)\n",
    "for k in neighbors:\n",
    "    classifier=KNeighborsClassifier(n_neighbors=k,metric='minkowski')\n",
    "    classifier.fit(X_train,y_train)\n",
    "    y_pred=classifier.predict(X_test)\n",
    "    acc=accuracy_score(y_test,y_pred)\n",
    "    acc_values.append(acc)"
   ]
  },
  {
   "cell_type": "code",
   "execution_count": 36,
   "id": "5189add3",
   "metadata": {},
   "outputs": [
    {
     "data": {
      "text/plain": [
       "[0.6329113924050633,\n",
       " 0.6075949367088608,\n",
       " 0.6835443037974683,\n",
       " 0.620253164556962,\n",
       " 0.6582278481012658,\n",
       " 0.6075949367088608,\n",
       " 0.6582278481012658,\n",
       " 0.6455696202531646,\n",
       " 0.6455696202531646,\n",
       " 0.6075949367088608,\n",
       " 0.6708860759493671,\n",
       " 0.6962025316455697]"
      ]
     },
     "execution_count": 36,
     "metadata": {},
     "output_type": "execute_result"
    }
   ],
   "source": [
    "acc_values"
   ]
  },
  {
   "cell_type": "code",
   "execution_count": 37,
   "id": "f522cde2",
   "metadata": {},
   "outputs": [
    {
     "data": {
      "image/png": "[encoded data removed]",
      "text/plain": [
       "<Figure size 432x288 with 1 Axes>"
      ]
     },
     "metadata": {
      "needs_background": "light"
     },
     "output_type": "display_data"
    }
   ],
   "source": [
    "plt.plot(neighbors,acc_values,'o-')\n",
    "plt.show()"
   ]
  },
  {
   "cell_type": "code",
   "execution_count": 38,
   "id": "052eae53",
   "metadata": {},
   "outputs": [],
   "source": [
    "# K value is: 14"
   ]
  },
  {
   "cell_type": "code",
   "execution_count": 40,
   "id": "f43862b9",
   "metadata": {},
   "outputs": [],
   "source": [
    "from sklearn.neighbors import KNeighborsClassifier\n",
    "acc_values=[]\n",
    "neighbors=np.arange(3,15)\n",
    "for k in neighbors:\n",
    "    classifier=KNeighborsClassifier(n_neighbors=14,metric='minkowski')\n",
    "    classifier.fit(X_train,y_train)\n",
    "    y_pred=classifier.predict(X_test)\n",
    "    acc=accuracy_score(y_test,y_pred)\n",
    "    acc_values.append(acc)"
   ]
  },
  {
   "cell_type": "code",
   "execution_count": 42,
   "id": "06277681",
   "metadata": {},
   "outputs": [
    {
     "name": "stdout",
     "output_type": "stream",
     "text": [
      "Accuracy is 0.6962025316455697\n",
      "Precision is 0.7\n",
      "Recall is 0.9423076923076923\n",
      "F1 score is 0.8032786885245902\n"
     ]
    }
   ],
   "source": [
    "print('Accuracy is',accuracy_score(y_test,y_pred))\n",
    "print('Precision is',precision_score(y_test,y_pred,pos_label='yes'))\n",
    "print('Recall is',recall_score(y_test,y_pred,pos_label='yes'))\n",
    "print('F1 score is',f1_score(y_test,y_pred,pos_label='yes'))"
   ]
  },
  {
   "cell_type": "code",
   "execution_count": 43,
   "id": "d73d5e9d",
   "metadata": {},
   "outputs": [
    {
     "data": {
      "text/plain": [
       "array([[ 6, 21],\n",
       "       [ 3, 49]], dtype=int64)"
      ]
     },
     "execution_count": 43,
     "metadata": {},
     "output_type": "execute_result"
    }
   ],
   "source": [
    "confusion_matrix(y_test,y_pred)"
   ]
  },
  {
   "cell_type": "code",
   "execution_count": 44,
   "id": "1bc59bfb",
   "metadata": {},
   "outputs": [],
   "source": [
    "# There are 24 mismathches"
   ]
  },
  {
   "cell_type": "markdown",
   "id": "238b33ba",
   "metadata": {},
   "source": [
    "# Standard Scalling"
   ]
  },
  {
   "cell_type": "code",
   "execution_count": 45,
   "id": "12c61041",
   "metadata": {},
   "outputs": [
    {
     "data": {
      "text/html": [
       "<div>\n",
       "<style scoped>\n",
       "    .dataframe tbody tr th:only-of-type {\n",
       "        vertical-align: middle;\n",
       "    }\n",
       "\n",
       "    .dataframe tbody tr th {\n",
       "        vertical-align: top;\n",
       "    }\n",
       "\n",
       "    .dataframe thead th {\n",
       "        text-align: right;\n",
       "    }\n",
       "</style>\n",
       "<table border=\"1\" class=\"dataframe\">\n",
       "  <thead>\n",
       "    <tr style=\"text-align: right;\">\n",
       "      <th></th>\n",
       "      <th>age</th>\n",
       "      <th>Medu</th>\n",
       "      <th>Fedu</th>\n",
       "      <th>traveltime</th>\n",
       "      <th>studytime</th>\n",
       "      <th>failures</th>\n",
       "      <th>schoolsup</th>\n",
       "      <th>famsup</th>\n",
       "      <th>paid</th>\n",
       "      <th>activities</th>\n",
       "      <th>...</th>\n",
       "      <th>Mjob_at_home</th>\n",
       "      <th>Mjob_health</th>\n",
       "      <th>Mjob_other</th>\n",
       "      <th>Mjob_services</th>\n",
       "      <th>Mjob_teacher</th>\n",
       "      <th>Fjob_at_home</th>\n",
       "      <th>Fjob_health</th>\n",
       "      <th>Fjob_other</th>\n",
       "      <th>Fjob_services</th>\n",
       "      <th>Fjob_teacher</th>\n",
       "    </tr>\n",
       "  </thead>\n",
       "  <tbody>\n",
       "    <tr>\n",
       "      <th>count</th>\n",
       "      <td>395.000000</td>\n",
       "      <td>395.000000</td>\n",
       "      <td>395.000000</td>\n",
       "      <td>395.000000</td>\n",
       "      <td>395.000000</td>\n",
       "      <td>395.000000</td>\n",
       "      <td>395.000000</td>\n",
       "      <td>395.000000</td>\n",
       "      <td>395.000000</td>\n",
       "      <td>395.000000</td>\n",
       "      <td>...</td>\n",
       "      <td>395.000000</td>\n",
       "      <td>395.000000</td>\n",
       "      <td>395.000000</td>\n",
       "      <td>395.000000</td>\n",
       "      <td>395.000000</td>\n",
       "      <td>395.000000</td>\n",
       "      <td>395.000000</td>\n",
       "      <td>395.000000</td>\n",
       "      <td>395.000000</td>\n",
       "      <td>395.000000</td>\n",
       "    </tr>\n",
       "    <tr>\n",
       "      <th>mean</th>\n",
       "      <td>16.696203</td>\n",
       "      <td>2.749367</td>\n",
       "      <td>2.521519</td>\n",
       "      <td>1.448101</td>\n",
       "      <td>2.035443</td>\n",
       "      <td>0.334177</td>\n",
       "      <td>0.129114</td>\n",
       "      <td>0.612658</td>\n",
       "      <td>0.458228</td>\n",
       "      <td>0.508861</td>\n",
       "      <td>...</td>\n",
       "      <td>0.149367</td>\n",
       "      <td>0.086076</td>\n",
       "      <td>0.356962</td>\n",
       "      <td>0.260759</td>\n",
       "      <td>0.146835</td>\n",
       "      <td>0.050633</td>\n",
       "      <td>0.045570</td>\n",
       "      <td>0.549367</td>\n",
       "      <td>0.281013</td>\n",
       "      <td>0.073418</td>\n",
       "    </tr>\n",
       "    <tr>\n",
       "      <th>std</th>\n",
       "      <td>1.276043</td>\n",
       "      <td>1.094735</td>\n",
       "      <td>1.088201</td>\n",
       "      <td>0.697505</td>\n",
       "      <td>0.839240</td>\n",
       "      <td>0.743651</td>\n",
       "      <td>0.335751</td>\n",
       "      <td>0.487761</td>\n",
       "      <td>0.498884</td>\n",
       "      <td>0.500555</td>\n",
       "      <td>...</td>\n",
       "      <td>0.356902</td>\n",
       "      <td>0.280832</td>\n",
       "      <td>0.479711</td>\n",
       "      <td>0.439606</td>\n",
       "      <td>0.354391</td>\n",
       "      <td>0.219525</td>\n",
       "      <td>0.208814</td>\n",
       "      <td>0.498188</td>\n",
       "      <td>0.450064</td>\n",
       "      <td>0.261152</td>\n",
       "    </tr>\n",
       "    <tr>\n",
       "      <th>min</th>\n",
       "      <td>15.000000</td>\n",
       "      <td>0.000000</td>\n",
       "      <td>0.000000</td>\n",
       "      <td>1.000000</td>\n",
       "      <td>1.000000</td>\n",
       "      <td>0.000000</td>\n",
       "      <td>0.000000</td>\n",
       "      <td>0.000000</td>\n",
       "      <td>0.000000</td>\n",
       "      <td>0.000000</td>\n",
       "      <td>...</td>\n",
       "      <td>0.000000</td>\n",
       "      <td>0.000000</td>\n",
       "      <td>0.000000</td>\n",
       "      <td>0.000000</td>\n",
       "      <td>0.000000</td>\n",
       "      <td>0.000000</td>\n",
       "      <td>0.000000</td>\n",
       "      <td>0.000000</td>\n",
       "      <td>0.000000</td>\n",
       "      <td>0.000000</td>\n",
       "    </tr>\n",
       "    <tr>\n",
       "      <th>25%</th>\n",
       "      <td>16.000000</td>\n",
       "      <td>2.000000</td>\n",
       "      <td>2.000000</td>\n",
       "      <td>1.000000</td>\n",
       "      <td>1.000000</td>\n",
       "      <td>0.000000</td>\n",
       "      <td>0.000000</td>\n",
       "      <td>0.000000</td>\n",
       "      <td>0.000000</td>\n",
       "      <td>0.000000</td>\n",
       "      <td>...</td>\n",
       "      <td>0.000000</td>\n",
       "      <td>0.000000</td>\n",
       "      <td>0.000000</td>\n",
       "      <td>0.000000</td>\n",
       "      <td>0.000000</td>\n",
       "      <td>0.000000</td>\n",
       "      <td>0.000000</td>\n",
       "      <td>0.000000</td>\n",
       "      <td>0.000000</td>\n",
       "      <td>0.000000</td>\n",
       "    </tr>\n",
       "    <tr>\n",
       "      <th>50%</th>\n",
       "      <td>17.000000</td>\n",
       "      <td>3.000000</td>\n",
       "      <td>2.000000</td>\n",
       "      <td>1.000000</td>\n",
       "      <td>2.000000</td>\n",
       "      <td>0.000000</td>\n",
       "      <td>0.000000</td>\n",
       "      <td>1.000000</td>\n",
       "      <td>0.000000</td>\n",
       "      <td>1.000000</td>\n",
       "      <td>...</td>\n",
       "      <td>0.000000</td>\n",
       "      <td>0.000000</td>\n",
       "      <td>0.000000</td>\n",
       "      <td>0.000000</td>\n",
       "      <td>0.000000</td>\n",
       "      <td>0.000000</td>\n",
       "      <td>0.000000</td>\n",
       "      <td>1.000000</td>\n",
       "      <td>0.000000</td>\n",
       "      <td>0.000000</td>\n",
       "    </tr>\n",
       "    <tr>\n",
       "      <th>75%</th>\n",
       "      <td>18.000000</td>\n",
       "      <td>4.000000</td>\n",
       "      <td>3.000000</td>\n",
       "      <td>2.000000</td>\n",
       "      <td>2.000000</td>\n",
       "      <td>0.000000</td>\n",
       "      <td>0.000000</td>\n",
       "      <td>1.000000</td>\n",
       "      <td>1.000000</td>\n",
       "      <td>1.000000</td>\n",
       "      <td>...</td>\n",
       "      <td>0.000000</td>\n",
       "      <td>0.000000</td>\n",
       "      <td>1.000000</td>\n",
       "      <td>1.000000</td>\n",
       "      <td>0.000000</td>\n",
       "      <td>0.000000</td>\n",
       "      <td>0.000000</td>\n",
       "      <td>1.000000</td>\n",
       "      <td>1.000000</td>\n",
       "      <td>0.000000</td>\n",
       "    </tr>\n",
       "    <tr>\n",
       "      <th>max</th>\n",
       "      <td>22.000000</td>\n",
       "      <td>4.000000</td>\n",
       "      <td>4.000000</td>\n",
       "      <td>4.000000</td>\n",
       "      <td>4.000000</td>\n",
       "      <td>3.000000</td>\n",
       "      <td>1.000000</td>\n",
       "      <td>1.000000</td>\n",
       "      <td>1.000000</td>\n",
       "      <td>1.000000</td>\n",
       "      <td>...</td>\n",
       "      <td>1.000000</td>\n",
       "      <td>1.000000</td>\n",
       "      <td>1.000000</td>\n",
       "      <td>1.000000</td>\n",
       "      <td>1.000000</td>\n",
       "      <td>1.000000</td>\n",
       "      <td>1.000000</td>\n",
       "      <td>1.000000</td>\n",
       "      <td>1.000000</td>\n",
       "      <td>1.000000</td>\n",
       "    </tr>\n",
       "  </tbody>\n",
       "</table>\n",
       "<p>8 rows × 48 columns</p>\n",
       "</div>"
      ],
      "text/plain": [
       "              age        Medu        Fedu  traveltime   studytime    failures  \\\n",
       "count  395.000000  395.000000  395.000000  395.000000  395.000000  395.000000   \n",
       "mean    16.696203    2.749367    2.521519    1.448101    2.035443    0.334177   \n",
       "std      1.276043    1.094735    1.088201    0.697505    0.839240    0.743651   \n",
       "min     15.000000    0.000000    0.000000    1.000000    1.000000    0.000000   \n",
       "25%     16.000000    2.000000    2.000000    1.000000    1.000000    0.000000   \n",
       "50%     17.000000    3.000000    2.000000    1.000000    2.000000    0.000000   \n",
       "75%     18.000000    4.000000    3.000000    2.000000    2.000000    0.000000   \n",
       "max     22.000000    4.000000    4.000000    4.000000    4.000000    3.000000   \n",
       "\n",
       "        schoolsup      famsup        paid  activities  ...  Mjob_at_home  \\\n",
       "count  395.000000  395.000000  395.000000  395.000000  ...    395.000000   \n",
       "mean     0.129114    0.612658    0.458228    0.508861  ...      0.149367   \n",
       "std      0.335751    0.487761    0.498884    0.500555  ...      0.356902   \n",
       "min      0.000000    0.000000    0.000000    0.000000  ...      0.000000   \n",
       "25%      0.000000    0.000000    0.000000    0.000000  ...      0.000000   \n",
       "50%      0.000000    1.000000    0.000000    1.000000  ...      0.000000   \n",
       "75%      0.000000    1.000000    1.000000    1.000000  ...      0.000000   \n",
       "max      1.000000    1.000000    1.000000    1.000000  ...      1.000000   \n",
       "\n",
       "       Mjob_health  Mjob_other  Mjob_services  Mjob_teacher  Fjob_at_home  \\\n",
       "count   395.000000  395.000000     395.000000    395.000000    395.000000   \n",
       "mean      0.086076    0.356962       0.260759      0.146835      0.050633   \n",
       "std       0.280832    0.479711       0.439606      0.354391      0.219525   \n",
       "min       0.000000    0.000000       0.000000      0.000000      0.000000   \n",
       "25%       0.000000    0.000000       0.000000      0.000000      0.000000   \n",
       "50%       0.000000    0.000000       0.000000      0.000000      0.000000   \n",
       "75%       0.000000    1.000000       1.000000      0.000000      0.000000   \n",
       "max       1.000000    1.000000       1.000000      1.000000      1.000000   \n",
       "\n",
       "       Fjob_health  Fjob_other  Fjob_services  Fjob_teacher  \n",
       "count   395.000000  395.000000     395.000000    395.000000  \n",
       "mean      0.045570    0.549367       0.281013      0.073418  \n",
       "std       0.208814    0.498188       0.450064      0.261152  \n",
       "min       0.000000    0.000000       0.000000      0.000000  \n",
       "25%       0.000000    0.000000       0.000000      0.000000  \n",
       "50%       0.000000    1.000000       0.000000      0.000000  \n",
       "75%       0.000000    1.000000       1.000000      0.000000  \n",
       "max       1.000000    1.000000       1.000000      1.000000  \n",
       "\n",
       "[8 rows x 48 columns]"
      ]
     },
     "execution_count": 45,
     "metadata": {},
     "output_type": "execute_result"
    }
   ],
   "source": [
    "X.describe()"
   ]
  },
  {
   "cell_type": "code",
   "execution_count": 46,
   "id": "473499ca",
   "metadata": {},
   "outputs": [],
   "source": [
    "\n",
    "from sklearn.preprocessing import StandardScaler\n",
    "scaler=StandardScaler()\n",
    "X_train=scaler.fit_transform(X_train)\n",
    "X_test=scaler.fit_transform(X_test)"
   ]
  },
  {
   "cell_type": "code",
   "execution_count": 47,
   "id": "c2dfe414",
   "metadata": {},
   "outputs": [
    {
     "data": {
      "image/png": "[encoded data removed]",
      "text/plain": [
       "<Figure size 432x288 with 1 Axes>"
      ]
     },
     "metadata": {
      "needs_background": "light"
     },
     "output_type": "display_data"
    }
   ],
   "source": [
    "from sklearn.neighbors import KNeighborsClassifier\n",
    "acc_values=[]\n",
    "neighbors=np.arange(3,15)\n",
    "for k in neighbors:\n",
    "    classifier=KNeighborsClassifier(n_neighbors=k,metric='minkowski')\n",
    "    classifier.fit(X_train,y_train)\n",
    "    y_pred=classifier.predict(X_test)\n",
    "    acc=accuracy_score(y_test,y_pred)\n",
    "    acc_values.append(acc)\n",
    "plt.plot(neighbors,acc_values,'o-')\n",
    "plt.show()"
   ]
  },
  {
   "cell_type": "code",
   "execution_count": 48,
   "id": "0ed497a8",
   "metadata": {},
   "outputs": [],
   "source": [
    "# K value is: 9"
   ]
  },
  {
   "cell_type": "code",
   "execution_count": 49,
   "id": "2e7b8622",
   "metadata": {},
   "outputs": [],
   "source": [
    "from sklearn.neighbors import KNeighborsClassifier\n",
    "acc_values=[]\n",
    "neighbors=np.arange(3,15)\n",
    "for k in neighbors:\n",
    "    classifier=KNeighborsClassifier(n_neighbors=9,metric='minkowski')\n",
    "    classifier.fit(X_train,y_train)\n",
    "    y_pred=classifier.predict(X_test)\n",
    "    acc=accuracy_score(y_test,y_pred)\n",
    "    acc_values.append(acc)"
   ]
  },
  {
   "cell_type": "code",
   "execution_count": 50,
   "id": "c88985cb",
   "metadata": {},
   "outputs": [
    {
     "name": "stdout",
     "output_type": "stream",
     "text": [
      "Accuracy is 0.6582278481012658\n",
      "Precision is 0.6811594202898551\n",
      "Recall is 0.9038461538461539\n",
      "F1 score is 0.7768595041322315\n"
     ]
    }
   ],
   "source": [
    "print('Accuracy is',accuracy_score(y_test,y_pred))\n",
    "print('Precision is',precision_score(y_test,y_pred,pos_label='yes'))\n",
    "print('Recall is',recall_score(y_test,y_pred,pos_label='yes'))\n",
    "print('F1 score is',f1_score(y_test,y_pred,pos_label='yes'))"
   ]
  },
  {
   "cell_type": "code",
   "execution_count": 51,
   "id": "d410e320",
   "metadata": {},
   "outputs": [
    {
     "data": {
      "text/plain": [
       "array([[ 5, 22],\n",
       "       [ 5, 47]], dtype=int64)"
      ]
     },
     "execution_count": 51,
     "metadata": {},
     "output_type": "execute_result"
    }
   ],
   "source": [
    "confusion_matrix(y_test,y_pred)"
   ]
  },
  {
   "cell_type": "code",
   "execution_count": 52,
   "id": "48a702d7",
   "metadata": {},
   "outputs": [],
   "source": [
    "# Since standard scalling is decreasing the accuracy, no need for standard scalling"
   ]
  },
  {
   "cell_type": "markdown",
   "id": "1279d45a",
   "metadata": {},
   "source": [
    "# Applying Decision Tree"
   ]
  },
  {
   "cell_type": "code",
   "execution_count": 53,
   "id": "c5b41ebe",
   "metadata": {},
   "outputs": [],
   "source": [
    "from sklearn.model_selection import train_test_split\n",
    "X_train,X_test,y_train,y_test=train_test_split(X,y,random_state=42,test_size=0.2)"
   ]
  },
  {
   "cell_type": "code",
   "execution_count": 54,
   "id": "a6d68b71",
   "metadata": {},
   "outputs": [],
   "source": [
    "from sklearn.tree import DecisionTreeClassifier"
   ]
  },
  {
   "cell_type": "code",
   "execution_count": 55,
   "id": "908faa40",
   "metadata": {},
   "outputs": [],
   "source": [
    "dt_model=DecisionTreeClassifier()"
   ]
  },
  {
   "cell_type": "code",
   "execution_count": 57,
   "id": "d08d71a3",
   "metadata": {},
   "outputs": [
    {
     "data": {
      "text/plain": [
       "DecisionTreeClassifier()"
      ]
     },
     "execution_count": 57,
     "metadata": {},
     "output_type": "execute_result"
    }
   ],
   "source": [
    "dt_model.fit(X_train,y_train)"
   ]
  },
  {
   "cell_type": "code",
   "execution_count": 61,
   "id": "7720a01a",
   "metadata": {},
   "outputs": [
    {
     "name": "stdout",
     "output_type": "stream",
     "text": [
      "Accuracy is 0.6708860759493671\n"
     ]
    }
   ],
   "source": [
    "y_pred=dt_model.predict(X_test)\n",
    "print('Accuracy is',accuracy_score(y_test,y_pred))"
   ]
  },
  {
   "cell_type": "code",
   "execution_count": 62,
   "id": "b35fa69c",
   "metadata": {},
   "outputs": [
    {
     "data": {
      "text/plain": [
       "array([[11, 16],\n",
       "       [10, 42]], dtype=int64)"
      ]
     },
     "execution_count": 62,
     "metadata": {},
     "output_type": "execute_result"
    }
   ],
   "source": [
    "confusion_matrix(y_test,y_pred)"
   ]
  },
  {
   "cell_type": "code",
   "execution_count": 63,
   "id": "121a2806",
   "metadata": {},
   "outputs": [],
   "source": [
    "# Misclasification is: 27"
   ]
  },
  {
   "cell_type": "code",
   "execution_count": 65,
   "id": "4f7a7740",
   "metadata": {},
   "outputs": [],
   "source": [
    "from sklearn.preprocessing import StandardScaler\n",
    "scaler=StandardScaler()\n",
    "X_train=scaler.fit_transform(X_train)\n",
    "X_test=scaler.fit_transform(X_test)"
   ]
  },
  {
   "cell_type": "code",
   "execution_count": 66,
   "id": "0fdb7e46",
   "metadata": {},
   "outputs": [
    {
     "name": "stdout",
     "output_type": "stream",
     "text": [
      "Accuracy is 0.6455696202531646\n"
     ]
    },
    {
     "data": {
      "text/plain": [
       "array([[12, 15],\n",
       "       [13, 39]], dtype=int64)"
      ]
     },
     "execution_count": 66,
     "metadata": {},
     "output_type": "execute_result"
    }
   ],
   "source": [
    "dt_model.fit(X_train,y_train)\n",
    "y_pred=dt_model.predict(X_test)\n",
    "print('Accuracy is',accuracy_score(y_test,y_pred))\n",
    "confusion_matrix(y_test,y_pred)"
   ]
  },
  {
   "cell_type": "code",
   "execution_count": 68,
   "id": "35a0d00c",
   "metadata": {},
   "outputs": [],
   "source": [
    "# Misclasification is: 28, no need for standard scalling"
   ]
  },
  {
   "cell_type": "markdown",
   "id": "a1bfd398",
   "metadata": {},
   "source": [
    "# Applying SVM Model"
   ]
  },
  {
   "cell_type": "code",
   "execution_count": 69,
   "id": "bbb92b4a",
   "metadata": {},
   "outputs": [],
   "source": [
    "from sklearn.svm import SVC"
   ]
  },
  {
   "cell_type": "code",
   "execution_count": 70,
   "id": "9d420e86",
   "metadata": {},
   "outputs": [],
   "source": [
    "svm_linear=SVC(kernel='linear')"
   ]
  },
  {
   "cell_type": "code",
   "execution_count": 71,
   "id": "74971072",
   "metadata": {},
   "outputs": [],
   "source": [
    "from sklearn.model_selection import train_test_split\n",
    "X_train,X_test,y_train,y_test=train_test_split(X,y,random_state=42,test_size=0.2)"
   ]
  },
  {
   "cell_type": "code",
   "execution_count": 73,
   "id": "5dd32f6d",
   "metadata": {},
   "outputs": [
    {
     "data": {
      "text/plain": [
       "SVC(kernel='linear')"
      ]
     },
     "execution_count": 73,
     "metadata": {},
     "output_type": "execute_result"
    }
   ],
   "source": [
    "svm_linear.fit(X_train,y_train)"
   ]
  },
  {
   "cell_type": "code",
   "execution_count": 74,
   "id": "73a600e4",
   "metadata": {},
   "outputs": [
    {
     "name": "stdout",
     "output_type": "stream",
     "text": [
      "Accuracy is 0.6962025316455697\n"
     ]
    }
   ],
   "source": [
    "y_pred=svm_linear.predict(X_test)\n",
    "print('Accuracy is',accuracy_score(y_test,y_pred))"
   ]
  },
  {
   "cell_type": "code",
   "execution_count": 75,
   "id": "570cba27",
   "metadata": {},
   "outputs": [
    {
     "data": {
      "text/plain": [
       "array([[10, 17],\n",
       "       [ 7, 45]], dtype=int64)"
      ]
     },
     "execution_count": 75,
     "metadata": {},
     "output_type": "execute_result"
    }
   ],
   "source": [
    "confusion_matrix(y_test,y_pred)"
   ]
  },
  {
   "cell_type": "code",
   "execution_count": 76,
   "id": "91718eca",
   "metadata": {},
   "outputs": [],
   "source": [
    "Misclasification: 24"
   ]
  },
  {
   "cell_type": "code",
   "execution_count": 77,
   "id": "53b15783",
   "metadata": {},
   "outputs": [
    {
     "name": "stdout",
     "output_type": "stream",
     "text": [
      "Accuracy is 0.6835443037974683\n"
     ]
    },
    {
     "data": {
      "text/plain": [
       "array([[11, 16],\n",
       "       [ 9, 43]], dtype=int64)"
      ]
     },
     "execution_count": 77,
     "metadata": {},
     "output_type": "execute_result"
    }
   ],
   "source": [
    "from sklearn.preprocessing import StandardScaler\n",
    "scaler=StandardScaler()\n",
    "X_train=scaler.fit_transform(X_train)\n",
    "X_test=scaler.fit_transform(X_test)\n",
    "svm_linear.fit(X_train,y_train)\n",
    "y_pred=svm_linear.predict(X_test)\n",
    "print('Accuracy is',accuracy_score(y_test,y_pred))\n",
    "confusion_matrix(y_test,y_pred)"
   ]
  },
  {
   "cell_type": "code",
   "execution_count": 78,
   "id": "55dd52d2",
   "metadata": {},
   "outputs": [],
   "source": [
    "Misclasification: 25"
   ]
  },
  {
   "cell_type": "markdown",
   "id": "367c15c7",
   "metadata": {},
   "source": [
    "# Polynomial "
   ]
  },
  {
   "cell_type": "code",
   "execution_count": 79,
   "id": "aad1e12a",
   "metadata": {},
   "outputs": [],
   "source": [
    "svm_poly=SVC(kernel='poly',degree=3)"
   ]
  },
  {
   "cell_type": "code",
   "execution_count": 80,
   "id": "6820b205",
   "metadata": {},
   "outputs": [
    {
     "data": {
      "text/plain": [
       "SVC(kernel='poly')"
      ]
     },
     "execution_count": 80,
     "metadata": {},
     "output_type": "execute_result"
    }
   ],
   "source": [
    "svm_poly.fit(X_train,y_train)"
   ]
  },
  {
   "cell_type": "code",
   "execution_count": 82,
   "id": "9bb36b39",
   "metadata": {},
   "outputs": [
    {
     "name": "stdout",
     "output_type": "stream",
     "text": [
      "Accuracy is 0.6455696202531646\n"
     ]
    },
    {
     "data": {
      "text/plain": [
       "array([[ 3, 24],\n",
       "       [ 4, 48]], dtype=int64)"
      ]
     },
     "execution_count": 82,
     "metadata": {},
     "output_type": "execute_result"
    }
   ],
   "source": [
    "y_pred=svm_poly.predict(X_test)\n",
    "print('Accuracy is',accuracy_score(y_test,y_pred))\n",
    "confusion_matrix(y_test,y_pred)"
   ]
  },
  {
   "cell_type": "markdown",
   "id": "e7b1adc6",
   "metadata": {},
   "source": [
    "# Radial SVM"
   ]
  },
  {
   "cell_type": "code",
   "execution_count": 83,
   "id": "0333c0e5",
   "metadata": {},
   "outputs": [],
   "source": [
    "svm_radial=SVC(kernel='rbf')"
   ]
  },
  {
   "cell_type": "code",
   "execution_count": 84,
   "id": "08af7bd9",
   "metadata": {},
   "outputs": [
    {
     "data": {
      "text/plain": [
       "SVC()"
      ]
     },
     "execution_count": 84,
     "metadata": {},
     "output_type": "execute_result"
    }
   ],
   "source": [
    "svm_radial.fit(X_train,y_train)"
   ]
  },
  {
   "cell_type": "code",
   "execution_count": 85,
   "id": "3d8a5041",
   "metadata": {},
   "outputs": [
    {
     "name": "stdout",
     "output_type": "stream",
     "text": [
      "Accuracy is 0.6455696202531646\n"
     ]
    },
    {
     "data": {
      "text/plain": [
       "array([[ 2, 25],\n",
       "       [ 3, 49]], dtype=int64)"
      ]
     },
     "execution_count": 85,
     "metadata": {},
     "output_type": "execute_result"
    }
   ],
   "source": [
    "y_pred=svm_radial.predict(X_test)\n",
    "print('Accuracy is',accuracy_score(y_test,y_pred))\n",
    "confusion_matrix(y_test,y_pred)"
   ]
  },
  {
   "cell_type": "markdown",
   "id": "a300502a",
   "metadata": {},
   "source": [
    "# Random Forest"
   ]
  },
  {
   "cell_type": "code",
   "execution_count": 86,
   "id": "0f92cb91",
   "metadata": {},
   "outputs": [],
   "source": [
    "from sklearn.ensemble import RandomForestClassifier"
   ]
  },
  {
   "cell_type": "code",
   "execution_count": 87,
   "id": "9c89bac0",
   "metadata": {},
   "outputs": [],
   "source": [
    "rf_model = RandomForestClassifier(random_state=42)"
   ]
  },
  {
   "cell_type": "code",
   "execution_count": 88,
   "id": "0fbc2023",
   "metadata": {},
   "outputs": [
    {
     "data": {
      "text/plain": [
       "RandomForestClassifier(random_state=42)"
      ]
     },
     "execution_count": 88,
     "metadata": {},
     "output_type": "execute_result"
    }
   ],
   "source": [
    "rf_model.fit(X_train,y_train)"
   ]
  },
  {
   "cell_type": "code",
   "execution_count": 89,
   "id": "5c9aa6f1",
   "metadata": {},
   "outputs": [
    {
     "name": "stdout",
     "output_type": "stream",
     "text": [
      "Accuracy is 0.6835443037974683\n"
     ]
    },
    {
     "data": {
      "text/plain": [
       "array([[ 5, 22],\n",
       "       [ 3, 49]], dtype=int64)"
      ]
     },
     "execution_count": 89,
     "metadata": {},
     "output_type": "execute_result"
    }
   ],
   "source": [
    "y_pred=rf_model.predict(X_test)\n",
    "print('Accuracy is',accuracy_score(y_test,y_pred))\n",
    "confusion_matrix(y_test,y_pred)"
   ]
  },
  {
   "cell_type": "code",
   "execution_count": 91,
   "id": "0e9df948",
   "metadata": {},
   "outputs": [],
   "source": [
    "#Applying KNN model would be the best choice as it gives the most accuracy close to 70%"
   ]
  }
 ],
 "metadata": {
  "kernelspec": {
   "display_name": "Python 3 (ipykernel)",
   "language": "python",
   "name": "python3"
  },
  "language_info": {
   "codemirror_mode": {
    "name": "ipython",
    "version": 3
   },
   "file_extension": ".py",
   "mimetype": "text/x-python",
   "name": "python",
   "nbconvert_exporter": "python",
   "pygments_lexer": "ipython3",
   "version": "3.9.7"
  }
 },
 "nbformat": 4,
 "nbformat_minor": 5
}
