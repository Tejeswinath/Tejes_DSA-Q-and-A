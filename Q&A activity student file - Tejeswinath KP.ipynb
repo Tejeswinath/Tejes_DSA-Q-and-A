{
 "cells": [
  {
   "cell_type": "markdown",
   "metadata": {},
   "source": [
    "## 1. Complete the following code to find the area of an equilateral triangle. Output should be as displayed"
   ]
  },
  {
   "cell_type": "code",
   "execution_count": 3,
   "metadata": {},
   "outputs": [
    {
     "name": "stdout",
     "output_type": "stream",
     "text": [
      "Enter the side of the equilateral triangle: 5\n",
      "Area =  10.825317547305483\n"
     ]
    }
   ],
   "source": [
    "## Area of equilateral triangle ##\n",
    "import math\n",
    "side = float(input(\"Enter the side of the equilateral triangle: \"))\n",
    "area = ((math.sqrt(3))/4)*pow(side,2)\n",
    "#answer to the question is:\n",
    "print(\"Area = \",area)"
   ]
  },
  {
   "cell_type": "markdown",
   "metadata": {},
   "source": [
    "## 2. Write a program to count the number of each characters in a string"
   ]
  },
  {
   "cell_type": "code",
   "execution_count": null,
   "metadata": {},
   "outputs": [],
   "source": [
    "## Count number of each characters in a string ##\n",
    "char_test= input(\"Type a string to count its letter: \")\n",
    "count_num={}\n",
    "def character(char_test):\n",
    "    for i in char_test:\n",
    "        if i in count_num:\n",
    "            count_num[i]+=1\n",
    "        else:\n",
    "            count_num[i]=1\n",
    "    return count_num\n",
    "print(\"Count of each letter in\" +\" \" + \"(\"+char_test+\")\" + \" is:\\n \",character(char_test))\n",
    "\n",
    "#### Alternative Method ####\n",
    "\n",
    "from collections import Counter\n",
    "char_test= input(\"Type a string to count its letter: \")\n",
    "count_letter= Counter(char_test)\n",
    "print(\"count of each letter in\"+\" \"+\"(\" +char_test+\")\"+\" \"+\"is:\\n \", count_letter)"
   ]
  },
  {
   "cell_type": "markdown",
   "metadata": {},
   "source": [
    "## 3. Write a program to find the area and perimeter of a rectangle using functions"
   ]
  },
  {
   "cell_type": "code",
   "execution_count": null,
   "metadata": {},
   "outputs": [],
   "source": [
    "## Area & Perimeter using functions\n",
    "\n",
    "length= float(input(\"Length of a side of retangle is: \"))\n",
    "breadth= float(input(\"Breadth of a side of rectangle is: \"))\n",
    "def rect(length,breadth):\n",
    "    area=length*breadth\n",
    "    perimeter=2*(length+breadth)\n",
    "    print(\"Area of the rectangle is \",area)\n",
    "    print(\"Perimeter of the rectangle is \",perimeter)\n",
    "rect(length,breadth)"
   ]
  },
  {
   "cell_type": "markdown",
   "metadata": {},
   "source": [
    "## 4. Write a program to print the fibonacci series till a specified number"
   ]
  },
  {
   "cell_type": "code",
   "execution_count": null,
   "metadata": {},
   "outputs": [],
   "source": [
    "#### Print fibonacci series ####\n",
    "no_terms=int(input(\"Enter the number of terms here: \"))\n",
    "term_1= 0\n",
    "term_2= 1\n",
    "count=0\n",
    "if no_terms<=0:\n",
    "    print(\"Kindly type a positive number\")\n",
    "elif no_terms==1:\n",
    "    print(\"Fibanacci sequence for \",no_terms,\"st\"+\" term is\",term_1)\n",
    "else:\n",
    "    while count<no_terms:\n",
    "        print(term_1,end=\"\\n\")\n",
    "        new_term = term_1 + term_2\n",
    "        term_1 = term_2\n",
    "        term_2 = new_term\n",
    "        count+=1"
   ]
  },
  {
   "cell_type": "markdown",
   "metadata": {},
   "source": [
    "## 5. Complete the following code to find the minimum of 3 number using conditional statements. Output should be as displayed"
   ]
  },
  {
   "cell_type": "code",
   "execution_count": 3,
   "metadata": {},
   "outputs": [
    {
     "name": "stdout",
     "output_type": "stream",
     "text": [
      "Enter three numbers followed by  : -19 -100 -9\n",
      "First number : -19\n",
      "Second number : -100\n",
      "Third number : -9\n",
      "-100  is smallest\n"
     ]
    }
   ],
   "source": [
    "a,b,c =map(int,input(\"Enter three numbers followed by  : \").split())\n",
    "\n",
    "print(\"First number :\",a)\n",
    "print(\"Second number :\",b)\n",
    "print(\"Third number :\",c)\n",
    "if a==b==c:\n",
    "    print(\"Entered numbers are equal!!!\")\n",
    "elif a<b and a<c:\n",
    "    print(a,\" is smallest\")\n",
    "elif b<a and b<c:\n",
    "    print(b,\" is smallest\")\n",
    "else:\n",
    "    print(c,\" is smallest\")"
   ]
  },
  {
   "cell_type": "markdown",
   "metadata": {},
   "source": [
    "## 6. Write a program to print star pyramind. The number of rows should be taken as input from the user"
   ]
  },
  {
   "cell_type": "code",
   "execution_count": null,
   "metadata": {},
   "outputs": [],
   "source": [
    "### Print Star Pyramid ###\n",
    "\n",
    "rows=int(input(\"Enter the number of rows: \"))\n",
    "def pyramid(rows):\n",
    "    space= rows -1\n",
    "    for i in range(0,rows):\n",
    "        for j in range(0,space):\n",
    "            print(end=\" \")\n",
    "        space-=1\n",
    "        for j in range(0,i+1):\n",
    "            print(\"* \",end=\"\")\n",
    "        print(\"\\n\")\n",
    "pyramid(rows)\n"
   ]
  },
  {
   "cell_type": "markdown",
   "metadata": {},
   "source": [
    "## 7. Complete the following code to convert hour into seconds. Output should be as displayed"
   ]
  },
  {
   "cell_type": "code",
   "execution_count": 1,
   "metadata": {},
   "outputs": [
    {
     "name": "stdout",
     "output_type": "stream",
     "text": [
      "Enter time in hours : 24\n",
      "24  Hour is equal to 86400  Seconds\n"
     ]
    }
   ],
   "source": [
    "def to_seconds(t):\n",
    "    \n",
    "    return t*60*60\n",
    "time_in_hours =int(input(\"Enter time in hours : \")) \n",
    "print(time_in_hours ,\" Hour is equal to\" ,to_seconds(time_in_hours) ,\" Seconds\")"
   ]
  },
  {
   "cell_type": "markdown",
   "metadata": {},
   "source": [
    "## 8. Write a program to print multiplication table as below"
   ]
  },
  {
   "cell_type": "code",
   "execution_count": 4,
   "metadata": {},
   "outputs": [
    {
     "name": "stdout",
     "output_type": "stream",
     "text": [
      "Enter a number to find the multiplication table: 67\n",
      "1 x 67 = 67\n",
      "2 x 67 = 134\n",
      "3 x 67 = 201\n",
      "4 x 67 = 268\n",
      "5 x 67 = 335\n",
      "6 x 67 = 402\n",
      "7 x 67 = 469\n",
      "8 x 67 = 536\n",
      "9 x 67 = 603\n",
      "10 x 67 = 670\n"
     ]
    }
   ],
   "source": [
    "mul_operand=int(input(\"Enter a number to find the multiplication table: \"))\n",
    "def multiply(mul_operand):\n",
    "    for i in range(1,11):\n",
    "        print(i,\" x \",mul_operand,\"=\", i*mul_operand,end=\"\\n\")\n",
    "multiply(mul_operand)"
   ]
  },
  {
   "cell_type": "markdown",
   "metadata": {},
   "source": [
    "## 9. Write a program to take your 5 favorite food as list and print each as 'I like Biriyani'"
   ]
  },
  {
   "cell_type": "code",
   "execution_count": null,
   "metadata": {},
   "outputs": [],
   "source": [
    "fav_food1,fav_food2,fav_food3,fav_food4,fav_food5= list(input(\" What are your 5 favourite food, Type each here with a space between them: \").split())\n",
    "print('I like'+\" \"+fav_food1)\n",
    "print('I like'+' '+fav_food2)\n",
    "print('I like'+' '+fav_food3)\n",
    "print('I like'+' '+fav_food4)\n",
    "print('I like'+' '+fav_food5)"
   ]
  }
 ],
 "metadata": {
  "kernelspec": {
   "display_name": "Python 3 (ipykernel)",
   "language": "python",
   "name": "python3"
  },
  "language_info": {
   "codemirror_mode": {
    "name": "ipython",
    "version": 3
   },
   "file_extension": ".py",
   "mimetype": "text/x-python",
   "name": "python",
   "nbconvert_exporter": "python",
   "pygments_lexer": "ipython3",
   "version": "3.9.7"
  }
 },
 "nbformat": 4,
 "nbformat_minor": 4
}
