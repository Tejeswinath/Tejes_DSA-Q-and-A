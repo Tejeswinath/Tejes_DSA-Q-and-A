{
 "cells": [
  {
   "cell_type": "code",
   "execution_count": 4,
   "id": "0d540642",
   "metadata": {},
   "outputs": [
    {
     "data": {
      "text/html": [
       "<div>\n",
       "<style scoped>\n",
       "    .dataframe tbody tr th:only-of-type {\n",
       "        vertical-align: middle;\n",
       "    }\n",
       "\n",
       "    .dataframe tbody tr th {\n",
       "        vertical-align: top;\n",
       "    }\n",
       "\n",
       "    .dataframe thead th {\n",
       "        text-align: right;\n",
       "    }\n",
       "</style>\n",
       "<table border=\"1\" class=\"dataframe\">\n",
       "  <thead>\n",
       "    <tr style=\"text-align: right;\">\n",
       "      <th></th>\n",
       "      <th>country</th>\n",
       "      <th>Region</th>\n",
       "      <th>Surface area (km2)</th>\n",
       "      <th>Population in thousands (2017)</th>\n",
       "      <th>GDP per capita (current US$)</th>\n",
       "      <th>Agricultural production index</th>\n",
       "      <th>International trade: Imports (million US$)</th>\n",
       "    </tr>\n",
       "  </thead>\n",
       "  <tbody>\n",
       "    <tr>\n",
       "      <th>0</th>\n",
       "      <td>Afghanistan</td>\n",
       "      <td>SouthernAsia</td>\n",
       "      <td>652864.0</td>\n",
       "      <td>35530.0</td>\n",
       "      <td>623.2</td>\n",
       "      <td>125.0</td>\n",
       "      <td>3568.0</td>\n",
       "    </tr>\n",
       "    <tr>\n",
       "      <th>1</th>\n",
       "      <td>Albania</td>\n",
       "      <td>SouthernEurope</td>\n",
       "      <td>28748.0</td>\n",
       "      <td>2930.0</td>\n",
       "      <td>3984.2</td>\n",
       "      <td>134.0</td>\n",
       "      <td>4669.0</td>\n",
       "    </tr>\n",
       "    <tr>\n",
       "      <th>2</th>\n",
       "      <td>Algeria</td>\n",
       "      <td>NorthernAfrica</td>\n",
       "      <td>2381741.0</td>\n",
       "      <td>41318.0</td>\n",
       "      <td>4154.1</td>\n",
       "      <td>160.0</td>\n",
       "      <td>47091.0</td>\n",
       "    </tr>\n",
       "    <tr>\n",
       "      <th>3</th>\n",
       "      <td>Angola</td>\n",
       "      <td>MiddleAfrica</td>\n",
       "      <td>1246700.0</td>\n",
       "      <td>29784.0</td>\n",
       "      <td>4714.1</td>\n",
       "      <td>175.0</td>\n",
       "      <td>8790.0</td>\n",
       "    </tr>\n",
       "    <tr>\n",
       "      <th>4</th>\n",
       "      <td>Antigua and Barbuda</td>\n",
       "      <td>Caribbean</td>\n",
       "      <td>442.0</td>\n",
       "      <td>102.0</td>\n",
       "      <td>14764.5</td>\n",
       "      <td>88.0</td>\n",
       "      <td>491.0</td>\n",
       "    </tr>\n",
       "    <tr>\n",
       "      <th>5</th>\n",
       "      <td>Argentina</td>\n",
       "      <td>SouthAmerica</td>\n",
       "      <td>2780400.0</td>\n",
       "      <td>44271.0</td>\n",
       "      <td>14564.5</td>\n",
       "      <td>119.0</td>\n",
       "      <td>55610.0</td>\n",
       "    </tr>\n",
       "    <tr>\n",
       "      <th>6</th>\n",
       "      <td>Armenia</td>\n",
       "      <td>WesternAsia</td>\n",
       "      <td>29743.0</td>\n",
       "      <td>2930.0</td>\n",
       "      <td>3489.1</td>\n",
       "      <td>135.0</td>\n",
       "      <td>3230.0</td>\n",
       "    </tr>\n",
       "    <tr>\n",
       "      <th>7</th>\n",
       "      <td>Australia</td>\n",
       "      <td>Oceania</td>\n",
       "      <td>7692060.0</td>\n",
       "      <td>24451.0</td>\n",
       "      <td>51352.2</td>\n",
       "      <td>111.0</td>\n",
       "      <td>189406.0</td>\n",
       "    </tr>\n",
       "    <tr>\n",
       "      <th>8</th>\n",
       "      <td>Austria</td>\n",
       "      <td>WesternEurope</td>\n",
       "      <td>83871.0</td>\n",
       "      <td>8736.0</td>\n",
       "      <td>44117.7</td>\n",
       "      <td>108.0</td>\n",
       "      <td>149299.0</td>\n",
       "    </tr>\n",
       "    <tr>\n",
       "      <th>9</th>\n",
       "      <td>Azerbaijan</td>\n",
       "      <td>WesternAsia</td>\n",
       "      <td>86600.0</td>\n",
       "      <td>9828.0</td>\n",
       "      <td>5438.7</td>\n",
       "      <td>131.0</td>\n",
       "      <td>8532.0</td>\n",
       "    </tr>\n",
       "  </tbody>\n",
       "</table>\n",
       "</div>"
      ],
      "text/plain": [
       "               country          Region  Surface area (km2)  \\\n",
       "0          Afghanistan    SouthernAsia            652864.0   \n",
       "1              Albania  SouthernEurope             28748.0   \n",
       "2              Algeria  NorthernAfrica           2381741.0   \n",
       "3               Angola    MiddleAfrica           1246700.0   \n",
       "4  Antigua and Barbuda       Caribbean               442.0   \n",
       "5            Argentina    SouthAmerica           2780400.0   \n",
       "6              Armenia     WesternAsia             29743.0   \n",
       "7            Australia         Oceania           7692060.0   \n",
       "8              Austria   WesternEurope             83871.0   \n",
       "9           Azerbaijan     WesternAsia             86600.0   \n",
       "\n",
       "   Population in thousands (2017)  GDP per capita (current US$)  \\\n",
       "0                         35530.0                         623.2   \n",
       "1                          2930.0                        3984.2   \n",
       "2                         41318.0                        4154.1   \n",
       "3                         29784.0                        4714.1   \n",
       "4                           102.0                       14764.5   \n",
       "5                         44271.0                       14564.5   \n",
       "6                          2930.0                        3489.1   \n",
       "7                         24451.0                       51352.2   \n",
       "8                          8736.0                       44117.7   \n",
       "9                          9828.0                        5438.7   \n",
       "\n",
       "   Agricultural production index   International trade: Imports (million US$)  \n",
       "0                           125.0                                      3568.0  \n",
       "1                           134.0                                      4669.0  \n",
       "2                           160.0                                     47091.0  \n",
       "3                           175.0                                      8790.0  \n",
       "4                            88.0                                       491.0  \n",
       "5                           119.0                                     55610.0  \n",
       "6                           135.0                                      3230.0  \n",
       "7                           111.0                                    189406.0  \n",
       "8                           108.0                                    149299.0  \n",
       "9                           131.0                                      8532.0  "
      ]
     },
     "execution_count": 4,
     "metadata": {},
     "output_type": "execute_result"
    }
   ],
   "source": [
    "import pandas as pd\n",
    "import numpy as np\n",
    "import matplotlib.pyplot as plt\n",
    "import seaborn as sns\n",
    "\n",
    "data= pd.read_excel(r\"C:\\Users\\Tejes\\Downloads\\Dataset_w6.xlsx\")\n",
    "data.head(10)"
   ]
  },
  {
   "cell_type": "code",
   "execution_count": 6,
   "id": "d6414840",
   "metadata": {},
   "outputs": [
    {
     "data": {
      "text/plain": [
       "Index(['country', 'Region', 'Surface area (km2)',\n",
       "       'Population in thousands (2017)', 'GDP per capita (current US$)',\n",
       "       'Agricultural production index ',\n",
       "       'International trade: Imports (million US$)'],\n",
       "      dtype='object')"
      ]
     },
     "execution_count": 6,
     "metadata": {},
     "output_type": "execute_result"
    }
   ],
   "source": [
    "data.columns"
   ]
  },
  {
   "cell_type": "markdown",
   "id": "1ec5c3e3",
   "metadata": {},
   "source": [
    "# 1) Find out how many countries are there in the Dataset\n"
   ]
  },
  {
   "cell_type": "code",
   "execution_count": 8,
   "id": "2809ad68",
   "metadata": {
    "scrolled": true
   },
   "outputs": [
    {
     "name": "stdout",
     "output_type": "stream",
     "text": [
      "No of countries in the given Dataset is:  196\n"
     ]
    }
   ],
   "source": [
    "print('No of countries in the given Dataset is: ',data['country'].count())"
   ]
  },
  {
   "cell_type": "markdown",
   "id": "c8ca1059",
   "metadata": {},
   "source": [
    "# 2) Visualize The Given Dataset"
   ]
  },
  {
   "cell_type": "code",
   "execution_count": 9,
   "id": "51c89675",
   "metadata": {},
   "outputs": [
    {
     "data": {
      "image/png": "[encoded data removed]",
      "text/plain": [
       "<Figure size 576x576 with 3 Axes>"
      ]
     },
     "metadata": {
      "needs_background": "light"
     },
     "output_type": "display_data"
    }
   ],
   "source": [
    "data2=data.sort_values(by='GDP per capita (current US$)',ascending=False).head(10)\n",
    "fig,ax1= plt.subplots(figsize=(8,8))\n",
    "x=data2['country']\n",
    "y1=data2['GDP per capita (current US$)']\n",
    "y2=data2['Agricultural production index ']\n",
    "y3=data2['International trade: Imports (million US$)']\n",
    "ax1.plot(x,y1, color='green')\n",
    "plt.xticks(rotation=90)\n",
    "ax2=ax1.twinx()\n",
    "ax2.plot(x,y2,color='blue')\n",
    "ax3=ax1.twinx()\n",
    "plt.xticks(rotation=90)\n",
    "ax3.plot(x,y3,color='red')\n",
    "plt.xticks(rotation=90)\n",
    "ax3.spines['right'].set_position(('outward',60))\n",
    "ax1.set_ylabel('G D P',color='green')\n",
    "ax2.set_ylabel('A P I',color='blue')\n",
    "ax3.set_ylabel('INTERNATIONAL TRADE', color='red')\n",
    "ax1.set_xlabel('COUNTRIES')\n",
    "ax1.tick_params(axis='y',colors='green')\n",
    "ax2.tick_params(axis='y',colors='blue')\n",
    "ax3.tick_params(axis='y',colors='red')\n",
    "ax2.spines['right'].set_color('blue')\n",
    "ax3.spines['right'].set_color('red')\n",
    "ax3.spines['left'].set_color('green')\n",
    "plt.show()"
   ]
  },
  {
   "cell_type": "markdown",
   "id": "7f1ac7bf",
   "metadata": {},
   "source": [
    "# 3) Find out how many countries with respect to the region are available in the        dataset\n"
   ]
  },
  {
   "cell_type": "code",
   "execution_count": 10,
   "id": "ed028f86",
   "metadata": {},
   "outputs": [
    {
     "data": {
      "text/plain": [
       "WesternAsia          18\n",
       "EasternAfrica        17\n",
       "Caribbean            16\n",
       "WesternAfrica        15\n",
       "SouthAmerica         12\n",
       "SouthernEurope       12\n",
       "South-easternAsia    11\n",
       "EasternEurope        10\n",
       "NorthernEurope       10\n",
       "SouthernAsia          9\n",
       "MiddleAfrica          9\n",
       "CentralAmerica        8\n",
       "WesternEurope         7\n",
       "EasternAsia           7\n",
       "SouthernAfrica        5\n",
       "Polynesia             5\n",
       "NorthernAfrica        5\n",
       "Melanesia             5\n",
       "CentralAsia           5\n",
       "NorthernAmerica       4\n",
       "Micronesia            4\n",
       "Oceania               2\n",
       "Name: Region, dtype: int64"
      ]
     },
     "execution_count": 10,
     "metadata": {},
     "output_type": "execute_result"
    }
   ],
   "source": [
    "data['Region'].value_counts()"
   ]
  },
  {
   "cell_type": "markdown",
   "id": "848b1253",
   "metadata": {},
   "source": [
    "# 4 a) On average which region has the highest -  GDP Per Capita"
   ]
  },
  {
   "cell_type": "code",
   "execution_count": 11,
   "id": "34266837",
   "metadata": {},
   "outputs": [
    {
     "name": "stdout",
     "output_type": "stream",
     "text": [
      "The region with highest GDP is:  Region\n",
      "NorthernAmerica    57659.0\n",
      "Name: GDP per capita (current US$), dtype: float64\n"
     ]
    }
   ],
   "source": [
    "highest_gdp=data.groupby('Region')['GDP per capita (current US$)'].mean()\n",
    "print('The region with highest GDP is: ',highest_gdp.nlargest(1))"
   ]
  },
  {
   "cell_type": "markdown",
   "id": "6b7ea1a8",
   "metadata": {},
   "source": [
    "# 4 b) On average which region has the highest -  International trade: Imports (million US$)"
   ]
  },
  {
   "cell_type": "code",
   "execution_count": 12,
   "id": "6776541a",
   "metadata": {},
   "outputs": [
    {
     "name": "stdout",
     "output_type": "stream",
     "text": [
      "The region with highest import trade is:  Region\n",
      "NorthernAmerica    663552.25\n",
      "Name: International trade: Imports (million US$), dtype: float64\n"
     ]
    }
   ],
   "source": [
    "highest_import=data.groupby('Region')['International trade: Imports (million US$)'].mean()\n",
    "print('The region with highest import trade is: ',highest_import.nlargest(1))"
   ]
  },
  {
   "cell_type": "markdown",
   "id": "d6778022",
   "metadata": {},
   "source": [
    "# 5) Find out which region has more consistent with respect to GDP per capita (current US$)"
   ]
  },
  {
   "cell_type": "code",
   "execution_count": 15,
   "id": "ac0b411a",
   "metadata": {},
   "outputs": [
    {
     "data": {
      "text/plain": [
       "Region\n",
       "WesternAfrica          815.095\n",
       "NorthernAfrica         974.707\n",
       "SouthernAfrica        2177.551\n",
       "SouthernAsia          2855.708\n",
       "EasternAfrica         3716.132\n",
       "CentralAsia           4152.215\n",
       "CentralAmerica        4180.441\n",
       "SouthAmerica          4273.707\n",
       "Micronesia            4820.670\n",
       "MiddleAfrica          5274.846\n",
       "EasternEurope         5415.489\n",
       "Polynesia             6956.250\n",
       "Oceania               9233.330\n",
       "SouthernEurope        9541.703\n",
       "Melanesia            13855.843\n",
       "Caribbean            14579.371\n",
       "South-easternAsia    16311.811\n",
       "WesternAsia          18812.151\n",
       "NorthernEurope       20671.030\n",
       "WesternEurope        24770.468\n",
       "NorthernAmerica      25749.619\n",
       "EasternAsia          27485.121\n",
       "Name: GDP per capita (current US$), dtype: float64"
      ]
     },
     "execution_count": 15,
     "metadata": {},
     "output_type": "execute_result"
    }
   ],
   "source": [
    "least_gdp_variation=data.groupby('Region')['GDP per capita (current US$)'].std().round(3)\n",
    "least_gdp_variation.sort_values(ascending=True)"
   ]
  },
  {
   "cell_type": "code",
   "execution_count": 16,
   "id": "7d02919c",
   "metadata": {},
   "outputs": [
    {
     "name": "stdout",
     "output_type": "stream",
     "text": [
      "The region which is the most consistent with GDP is:  Region\n",
      "WesternAfrica    815.095\n",
      "Name: GDP per capita (current US$), dtype: float64\n"
     ]
    }
   ],
   "source": [
    "print('The region which is the most consistent with GDP is: ',least_gdp_variation.nsmallest(1))"
   ]
  },
  {
   "cell_type": "code",
   "execution_count": null,
   "id": "b13b3ccd",
   "metadata": {},
   "outputs": [],
   "source": []
  }
 ],
 "metadata": {
  "kernelspec": {
   "display_name": "Python 3 (ipykernel)",
   "language": "python",
   "name": "python3"
  },
  "language_info": {
   "codemirror_mode": {
    "name": "ipython",
    "version": 3
   },
   "file_extension": ".py",
   "mimetype": "text/x-python",
   "name": "python",
   "nbconvert_exporter": "python",
   "pygments_lexer": "ipython3",
   "version": "3.9.7"
  }
 },
 "nbformat": 4,
 "nbformat_minor": 5
}
