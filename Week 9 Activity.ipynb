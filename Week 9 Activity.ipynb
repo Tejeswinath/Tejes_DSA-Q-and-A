{
 "cells": [
  {
   "cell_type": "markdown",
   "id": "56bb6742",
   "metadata": {},
   "source": [
    "#  1) Load the data into the pandas environment and identify some basic details of the dataset"
   ]
  },
  {
   "cell_type": "code",
   "execution_count": 68,
   "id": "06262d3f",
   "metadata": {},
   "outputs": [
    {
     "data": {
      "text/html": [
       "<div>\n",
       "<style scoped>\n",
       "    .dataframe tbody tr th:only-of-type {\n",
       "        vertical-align: middle;\n",
       "    }\n",
       "\n",
       "    .dataframe tbody tr th {\n",
       "        vertical-align: top;\n",
       "    }\n",
       "\n",
       "    .dataframe thead th {\n",
       "        text-align: right;\n",
       "    }\n",
       "</style>\n",
       "<table border=\"1\" class=\"dataframe\">\n",
       "  <thead>\n",
       "    <tr style=\"text-align: right;\">\n",
       "      <th></th>\n",
       "      <th>name</th>\n",
       "      <th>age</th>\n",
       "      <th>income</th>\n",
       "      <th>gender</th>\n",
       "      <th>department</th>\n",
       "      <th>grade</th>\n",
       "      <th>performance_score</th>\n",
       "    </tr>\n",
       "  </thead>\n",
       "  <tbody>\n",
       "    <tr>\n",
       "      <th>0</th>\n",
       "      <td>Allen Smith</td>\n",
       "      <td>45.0</td>\n",
       "      <td>NaN</td>\n",
       "      <td>NaN</td>\n",
       "      <td>Operations</td>\n",
       "      <td>G3</td>\n",
       "      <td>723</td>\n",
       "    </tr>\n",
       "    <tr>\n",
       "      <th>1</th>\n",
       "      <td>S Kumar</td>\n",
       "      <td>NaN</td>\n",
       "      <td>16000.0</td>\n",
       "      <td>F</td>\n",
       "      <td>Finance</td>\n",
       "      <td>G0</td>\n",
       "      <td>520</td>\n",
       "    </tr>\n",
       "    <tr>\n",
       "      <th>2</th>\n",
       "      <td>Jack Morgan</td>\n",
       "      <td>32.0</td>\n",
       "      <td>35000.0</td>\n",
       "      <td>M</td>\n",
       "      <td>Finance</td>\n",
       "      <td>G2</td>\n",
       "      <td>674</td>\n",
       "    </tr>\n",
       "    <tr>\n",
       "      <th>3</th>\n",
       "      <td>Ying Chin</td>\n",
       "      <td>45.0</td>\n",
       "      <td>65000.0</td>\n",
       "      <td>F</td>\n",
       "      <td>Sales</td>\n",
       "      <td>G3</td>\n",
       "      <td>556</td>\n",
       "    </tr>\n",
       "    <tr>\n",
       "      <th>4</th>\n",
       "      <td>Dheeraj Patel</td>\n",
       "      <td>30.0</td>\n",
       "      <td>42000.0</td>\n",
       "      <td>F</td>\n",
       "      <td>Operations</td>\n",
       "      <td>G2</td>\n",
       "      <td>711</td>\n",
       "    </tr>\n",
       "    <tr>\n",
       "      <th>5</th>\n",
       "      <td>Satyam Sharma</td>\n",
       "      <td>NaN</td>\n",
       "      <td>62000.0</td>\n",
       "      <td>NaN</td>\n",
       "      <td>Sales</td>\n",
       "      <td>G3</td>\n",
       "      <td>649</td>\n",
       "    </tr>\n",
       "    <tr>\n",
       "      <th>6</th>\n",
       "      <td>James Authur</td>\n",
       "      <td>54.0</td>\n",
       "      <td>NaN</td>\n",
       "      <td>F</td>\n",
       "      <td>Operations</td>\n",
       "      <td>G3</td>\n",
       "      <td>53</td>\n",
       "    </tr>\n",
       "    <tr>\n",
       "      <th>7</th>\n",
       "      <td>Josh Wills</td>\n",
       "      <td>54.0</td>\n",
       "      <td>52000.0</td>\n",
       "      <td>F</td>\n",
       "      <td>Finance</td>\n",
       "      <td>G3</td>\n",
       "      <td>901</td>\n",
       "    </tr>\n",
       "    <tr>\n",
       "      <th>8</th>\n",
       "      <td>Leo Duck</td>\n",
       "      <td>23.0</td>\n",
       "      <td>98000.0</td>\n",
       "      <td>M</td>\n",
       "      <td>Sales</td>\n",
       "      <td>G4</td>\n",
       "      <td>709</td>\n",
       "    </tr>\n",
       "  </tbody>\n",
       "</table>\n",
       "</div>"
      ],
      "text/plain": [
       "            name   age   income gender  department grade  performance_score\n",
       "0    Allen Smith  45.0      NaN    NaN  Operations    G3                723\n",
       "1        S Kumar   NaN  16000.0      F     Finance    G0                520\n",
       "2    Jack Morgan  32.0  35000.0      M     Finance    G2                674\n",
       "3      Ying Chin  45.0  65000.0      F       Sales    G3                556\n",
       "4  Dheeraj Patel  30.0  42000.0      F  Operations    G2                711\n",
       "5  Satyam Sharma   NaN  62000.0    NaN       Sales    G3                649\n",
       "6   James Authur  54.0      NaN      F  Operations    G3                 53\n",
       "7     Josh Wills  54.0  52000.0      F     Finance    G3                901\n",
       "8       Leo Duck  23.0  98000.0      M       Sales    G4                709"
      ]
     },
     "execution_count": 68,
     "metadata": {},
     "output_type": "execute_result"
    }
   ],
   "source": [
    "import numpy as np\n",
    "import pandas as pd\n",
    "import matplotlib.pyplot as plt\n",
    "import seaborn as sns\n",
    "\n",
    "emp_data=pd.read_csv(r\"C:\\Users\\Tejes\\Downloads\\employee.csv\")\n",
    "emp_data"
   ]
  },
  {
   "cell_type": "code",
   "execution_count": 5,
   "id": "baf8ac63",
   "metadata": {},
   "outputs": [
    {
     "name": "stdout",
     "output_type": "stream",
     "text": [
      "<class 'pandas.core.frame.DataFrame'>\n",
      "Index: 9 entries, Allen Smith to Leo Duck\n",
      "Data columns (total 6 columns):\n",
      " #   Column             Non-Null Count  Dtype  \n",
      "---  ------             --------------  -----  \n",
      " 0   age                7 non-null      float64\n",
      " 1   income             7 non-null      float64\n",
      " 2   gender             7 non-null      object \n",
      " 3   department         9 non-null      object \n",
      " 4   grade              9 non-null      object \n",
      " 5   performance_score  9 non-null      int64  \n",
      "dtypes: float64(2), int64(1), object(3)\n",
      "memory usage: 504.0+ bytes\n"
     ]
    }
   ],
   "source": [
    "emp_data.info()"
   ]
  },
  {
   "cell_type": "code",
   "execution_count": 6,
   "id": "6c27283d",
   "metadata": {},
   "outputs": [
    {
     "data": {
      "text/plain": [
       "age                  2\n",
       "income               2\n",
       "gender               2\n",
       "department           0\n",
       "grade                0\n",
       "performance_score    0\n",
       "dtype: int64"
      ]
     },
     "execution_count": 6,
     "metadata": {},
     "output_type": "execute_result"
    }
   ],
   "source": [
    "emp_data.isna().sum()"
   ]
  },
  {
   "cell_type": "code",
   "execution_count": 12,
   "id": "2e08cec4",
   "metadata": {},
   "outputs": [
    {
     "data": {
      "text/plain": [
       "(9, 6)"
      ]
     },
     "execution_count": 12,
     "metadata": {},
     "output_type": "execute_result"
    }
   ],
   "source": [
    "emp_data.shape"
   ]
  },
  {
   "cell_type": "markdown",
   "id": "c44f17e1",
   "metadata": {},
   "source": [
    "# 2) Rest the index as 'name'"
   ]
  },
  {
   "cell_type": "code",
   "execution_count": 74,
   "id": "9e4a678c",
   "metadata": {},
   "outputs": [
    {
     "data": {
      "text/html": [
       "<div>\n",
       "<style scoped>\n",
       "    .dataframe tbody tr th:only-of-type {\n",
       "        vertical-align: middle;\n",
       "    }\n",
       "\n",
       "    .dataframe tbody tr th {\n",
       "        vertical-align: top;\n",
       "    }\n",
       "\n",
       "    .dataframe thead th {\n",
       "        text-align: right;\n",
       "    }\n",
       "</style>\n",
       "<table border=\"1\" class=\"dataframe\">\n",
       "  <thead>\n",
       "    <tr style=\"text-align: right;\">\n",
       "      <th></th>\n",
       "      <th>age</th>\n",
       "      <th>income</th>\n",
       "      <th>gender</th>\n",
       "      <th>department</th>\n",
       "      <th>grade</th>\n",
       "      <th>performance_score</th>\n",
       "    </tr>\n",
       "    <tr>\n",
       "      <th>name</th>\n",
       "      <th></th>\n",
       "      <th></th>\n",
       "      <th></th>\n",
       "      <th></th>\n",
       "      <th></th>\n",
       "      <th></th>\n",
       "    </tr>\n",
       "  </thead>\n",
       "  <tbody>\n",
       "    <tr>\n",
       "      <th>Allen Smith</th>\n",
       "      <td>45.0</td>\n",
       "      <td>NaN</td>\n",
       "      <td>NaN</td>\n",
       "      <td>Operations</td>\n",
       "      <td>G3</td>\n",
       "      <td>723</td>\n",
       "    </tr>\n",
       "    <tr>\n",
       "      <th>S Kumar</th>\n",
       "      <td>NaN</td>\n",
       "      <td>16000.0</td>\n",
       "      <td>F</td>\n",
       "      <td>Finance</td>\n",
       "      <td>G0</td>\n",
       "      <td>520</td>\n",
       "    </tr>\n",
       "    <tr>\n",
       "      <th>Jack Morgan</th>\n",
       "      <td>32.0</td>\n",
       "      <td>35000.0</td>\n",
       "      <td>M</td>\n",
       "      <td>Finance</td>\n",
       "      <td>G2</td>\n",
       "      <td>674</td>\n",
       "    </tr>\n",
       "    <tr>\n",
       "      <th>Ying Chin</th>\n",
       "      <td>45.0</td>\n",
       "      <td>65000.0</td>\n",
       "      <td>F</td>\n",
       "      <td>Sales</td>\n",
       "      <td>G3</td>\n",
       "      <td>556</td>\n",
       "    </tr>\n",
       "    <tr>\n",
       "      <th>Dheeraj Patel</th>\n",
       "      <td>30.0</td>\n",
       "      <td>42000.0</td>\n",
       "      <td>F</td>\n",
       "      <td>Operations</td>\n",
       "      <td>G2</td>\n",
       "      <td>711</td>\n",
       "    </tr>\n",
       "    <tr>\n",
       "      <th>Satyam Sharma</th>\n",
       "      <td>NaN</td>\n",
       "      <td>62000.0</td>\n",
       "      <td>NaN</td>\n",
       "      <td>Sales</td>\n",
       "      <td>G3</td>\n",
       "      <td>649</td>\n",
       "    </tr>\n",
       "    <tr>\n",
       "      <th>James Authur</th>\n",
       "      <td>54.0</td>\n",
       "      <td>NaN</td>\n",
       "      <td>F</td>\n",
       "      <td>Operations</td>\n",
       "      <td>G3</td>\n",
       "      <td>53</td>\n",
       "    </tr>\n",
       "    <tr>\n",
       "      <th>Josh Wills</th>\n",
       "      <td>54.0</td>\n",
       "      <td>52000.0</td>\n",
       "      <td>F</td>\n",
       "      <td>Finance</td>\n",
       "      <td>G3</td>\n",
       "      <td>901</td>\n",
       "    </tr>\n",
       "    <tr>\n",
       "      <th>Leo Duck</th>\n",
       "      <td>23.0</td>\n",
       "      <td>98000.0</td>\n",
       "      <td>M</td>\n",
       "      <td>Sales</td>\n",
       "      <td>G4</td>\n",
       "      <td>709</td>\n",
       "    </tr>\n",
       "  </tbody>\n",
       "</table>\n",
       "</div>"
      ],
      "text/plain": [
       "                age   income gender  department grade  performance_score\n",
       "name                                                                    \n",
       "Allen Smith    45.0      NaN    NaN  Operations    G3                723\n",
       "S Kumar         NaN  16000.0      F     Finance    G0                520\n",
       "Jack Morgan    32.0  35000.0      M     Finance    G2                674\n",
       "Ying Chin      45.0  65000.0      F       Sales    G3                556\n",
       "Dheeraj Patel  30.0  42000.0      F  Operations    G2                711\n",
       "Satyam Sharma   NaN  62000.0    NaN       Sales    G3                649\n",
       "James Authur   54.0      NaN      F  Operations    G3                 53\n",
       "Josh Wills     54.0  52000.0      F     Finance    G3                901\n",
       "Leo Duck       23.0  98000.0      M       Sales    G4                709"
      ]
     },
     "execution_count": 74,
     "metadata": {},
     "output_type": "execute_result"
    }
   ],
   "source": [
    "emp_data=pd.read_csv(r\"C:\\Users\\Tejes\\Downloads\\employee.csv\", index_col='name')\n",
    "emp_data"
   ]
  },
  {
   "cell_type": "markdown",
   "id": "723611f2",
   "metadata": {},
   "source": [
    "#  3) Select rows for specific names Jack Morgan and Josh Wills"
   ]
  },
  {
   "cell_type": "code",
   "execution_count": 76,
   "id": "b3f84937",
   "metadata": {},
   "outputs": [
    {
     "data": {
      "text/html": [
       "<div>\n",
       "<style scoped>\n",
       "    .dataframe tbody tr th:only-of-type {\n",
       "        vertical-align: middle;\n",
       "    }\n",
       "\n",
       "    .dataframe tbody tr th {\n",
       "        vertical-align: top;\n",
       "    }\n",
       "\n",
       "    .dataframe thead th {\n",
       "        text-align: right;\n",
       "    }\n",
       "</style>\n",
       "<table border=\"1\" class=\"dataframe\">\n",
       "  <thead>\n",
       "    <tr style=\"text-align: right;\">\n",
       "      <th></th>\n",
       "      <th>age</th>\n",
       "      <th>income</th>\n",
       "      <th>gender</th>\n",
       "      <th>department</th>\n",
       "      <th>grade</th>\n",
       "      <th>performance_score</th>\n",
       "    </tr>\n",
       "    <tr>\n",
       "      <th>name</th>\n",
       "      <th></th>\n",
       "      <th></th>\n",
       "      <th></th>\n",
       "      <th></th>\n",
       "      <th></th>\n",
       "      <th></th>\n",
       "    </tr>\n",
       "  </thead>\n",
       "  <tbody>\n",
       "    <tr>\n",
       "      <th>Josh Wills</th>\n",
       "      <td>54.0</td>\n",
       "      <td>52000.0</td>\n",
       "      <td>F</td>\n",
       "      <td>Finance</td>\n",
       "      <td>G3</td>\n",
       "      <td>901</td>\n",
       "    </tr>\n",
       "    <tr>\n",
       "      <th>James Authur</th>\n",
       "      <td>54.0</td>\n",
       "      <td>NaN</td>\n",
       "      <td>F</td>\n",
       "      <td>Operations</td>\n",
       "      <td>G3</td>\n",
       "      <td>53</td>\n",
       "    </tr>\n",
       "  </tbody>\n",
       "</table>\n",
       "</div>"
      ],
      "text/plain": [
       "               age   income gender  department grade  performance_score\n",
       "name                                                                   \n",
       "Josh Wills    54.0  52000.0      F     Finance    G3                901\n",
       "James Authur  54.0      NaN      F  Operations    G3                 53"
      ]
     },
     "execution_count": 76,
     "metadata": {},
     "output_type": "execute_result"
    }
   ],
   "source": [
    "emp_data.loc[['Josh Wills','James Authur']]"
   ]
  },
  {
   "cell_type": "markdown",
   "id": "92880398",
   "metadata": {},
   "source": [
    "# 4) Select data for multiple values ' Sales ' and ' Finance '"
   ]
  },
  {
   "cell_type": "code",
   "execution_count": 28,
   "id": "3498772b",
   "metadata": {},
   "outputs": [
    {
     "data": {
      "text/html": [
       "<div>\n",
       "<style scoped>\n",
       "    .dataframe tbody tr th:only-of-type {\n",
       "        vertical-align: middle;\n",
       "    }\n",
       "\n",
       "    .dataframe tbody tr th {\n",
       "        vertical-align: top;\n",
       "    }\n",
       "\n",
       "    .dataframe thead th {\n",
       "        text-align: right;\n",
       "    }\n",
       "</style>\n",
       "<table border=\"1\" class=\"dataframe\">\n",
       "  <thead>\n",
       "    <tr style=\"text-align: right;\">\n",
       "      <th></th>\n",
       "      <th>age</th>\n",
       "      <th>income</th>\n",
       "      <th>gender</th>\n",
       "      <th>department</th>\n",
       "      <th>grade</th>\n",
       "      <th>performance_score</th>\n",
       "    </tr>\n",
       "    <tr>\n",
       "      <th>name</th>\n",
       "      <th></th>\n",
       "      <th></th>\n",
       "      <th></th>\n",
       "      <th></th>\n",
       "      <th></th>\n",
       "      <th></th>\n",
       "    </tr>\n",
       "  </thead>\n",
       "  <tbody>\n",
       "    <tr>\n",
       "      <th>S Kumar</th>\n",
       "      <td>NaN</td>\n",
       "      <td>16000.0</td>\n",
       "      <td>F</td>\n",
       "      <td>Finance</td>\n",
       "      <td>G0</td>\n",
       "      <td>520</td>\n",
       "    </tr>\n",
       "    <tr>\n",
       "      <th>Jack Morgan</th>\n",
       "      <td>32.0</td>\n",
       "      <td>35000.0</td>\n",
       "      <td>M</td>\n",
       "      <td>Finance</td>\n",
       "      <td>G2</td>\n",
       "      <td>674</td>\n",
       "    </tr>\n",
       "    <tr>\n",
       "      <th>Ying Chin</th>\n",
       "      <td>45.0</td>\n",
       "      <td>65000.0</td>\n",
       "      <td>F</td>\n",
       "      <td>Sales</td>\n",
       "      <td>G3</td>\n",
       "      <td>556</td>\n",
       "    </tr>\n",
       "    <tr>\n",
       "      <th>Satyam Sharma</th>\n",
       "      <td>NaN</td>\n",
       "      <td>62000.0</td>\n",
       "      <td>NaN</td>\n",
       "      <td>Sales</td>\n",
       "      <td>G3</td>\n",
       "      <td>649</td>\n",
       "    </tr>\n",
       "    <tr>\n",
       "      <th>Josh Wills</th>\n",
       "      <td>54.0</td>\n",
       "      <td>52000.0</td>\n",
       "      <td>F</td>\n",
       "      <td>Finance</td>\n",
       "      <td>G3</td>\n",
       "      <td>901</td>\n",
       "    </tr>\n",
       "    <tr>\n",
       "      <th>Leo Duck</th>\n",
       "      <td>23.0</td>\n",
       "      <td>98000.0</td>\n",
       "      <td>M</td>\n",
       "      <td>Sales</td>\n",
       "      <td>G4</td>\n",
       "      <td>709</td>\n",
       "    </tr>\n",
       "  </tbody>\n",
       "</table>\n",
       "</div>"
      ],
      "text/plain": [
       "                age   income gender department grade  performance_score\n",
       "name                                                                   \n",
       "S Kumar         NaN  16000.0      F    Finance    G0                520\n",
       "Jack Morgan    32.0  35000.0      M    Finance    G2                674\n",
       "Ying Chin      45.0  65000.0      F      Sales    G3                556\n",
       "Satyam Sharma   NaN  62000.0    NaN      Sales    G3                649\n",
       "Josh Wills     54.0  52000.0      F    Finance    G3                901\n",
       "Leo Duck       23.0  98000.0      M      Sales    G4                709"
      ]
     },
     "execution_count": 28,
     "metadata": {},
     "output_type": "execute_result"
    }
   ],
   "source": [
    "emp_data[emp_data['department'].isin(['Sales','Finance'])]"
   ]
  },
  {
   "cell_type": "markdown",
   "id": "5e9d14af",
   "metadata": {},
   "source": [
    "# 5 ) Display employee who has more than 700"
   ]
  },
  {
   "cell_type": "code",
   "execution_count": 32,
   "id": "c83887ad",
   "metadata": {
    "scrolled": true
   },
   "outputs": [
    {
     "data": {
      "text/html": [
       "<div>\n",
       "<style scoped>\n",
       "    .dataframe tbody tr th:only-of-type {\n",
       "        vertical-align: middle;\n",
       "    }\n",
       "\n",
       "    .dataframe tbody tr th {\n",
       "        vertical-align: top;\n",
       "    }\n",
       "\n",
       "    .dataframe thead th {\n",
       "        text-align: right;\n",
       "    }\n",
       "</style>\n",
       "<table border=\"1\" class=\"dataframe\">\n",
       "  <thead>\n",
       "    <tr style=\"text-align: right;\">\n",
       "      <th></th>\n",
       "      <th>age</th>\n",
       "      <th>income</th>\n",
       "      <th>gender</th>\n",
       "      <th>department</th>\n",
       "      <th>grade</th>\n",
       "      <th>performance_score</th>\n",
       "    </tr>\n",
       "    <tr>\n",
       "      <th>name</th>\n",
       "      <th></th>\n",
       "      <th></th>\n",
       "      <th></th>\n",
       "      <th></th>\n",
       "      <th></th>\n",
       "      <th></th>\n",
       "    </tr>\n",
       "  </thead>\n",
       "  <tbody>\n",
       "    <tr>\n",
       "      <th>Allen Smith</th>\n",
       "      <td>45.0</td>\n",
       "      <td>NaN</td>\n",
       "      <td>NaN</td>\n",
       "      <td>Operations</td>\n",
       "      <td>G3</td>\n",
       "      <td>723</td>\n",
       "    </tr>\n",
       "    <tr>\n",
       "      <th>Dheeraj Patel</th>\n",
       "      <td>30.0</td>\n",
       "      <td>42000.0</td>\n",
       "      <td>F</td>\n",
       "      <td>Operations</td>\n",
       "      <td>G2</td>\n",
       "      <td>711</td>\n",
       "    </tr>\n",
       "    <tr>\n",
       "      <th>Josh Wills</th>\n",
       "      <td>54.0</td>\n",
       "      <td>52000.0</td>\n",
       "      <td>F</td>\n",
       "      <td>Finance</td>\n",
       "      <td>G3</td>\n",
       "      <td>901</td>\n",
       "    </tr>\n",
       "    <tr>\n",
       "      <th>Leo Duck</th>\n",
       "      <td>23.0</td>\n",
       "      <td>98000.0</td>\n",
       "      <td>M</td>\n",
       "      <td>Sales</td>\n",
       "      <td>G4</td>\n",
       "      <td>709</td>\n",
       "    </tr>\n",
       "  </tbody>\n",
       "</table>\n",
       "</div>"
      ],
      "text/plain": [
       "                age   income gender  department grade  performance_score\n",
       "name                                                                    \n",
       "Allen Smith    45.0      NaN    NaN  Operations    G3                723\n",
       "Dheeraj Patel  30.0  42000.0      F  Operations    G2                711\n",
       "Josh Wills     54.0  52000.0      F     Finance    G3                901\n",
       "Leo Duck       23.0  98000.0      M       Sales    G4                709"
      ]
     },
     "execution_count": 32,
     "metadata": {},
     "output_type": "execute_result"
    }
   ],
   "source": [
    "emp_data[emp_data['performance_score']>700]"
   ]
  },
  {
   "cell_type": "markdown",
   "id": "42accc8a",
   "metadata": {},
   "source": [
    "# 6) Display employee who has more than 500 and less than 700 performance score"
   ]
  },
  {
   "cell_type": "code",
   "execution_count": 37,
   "id": "6f125e47",
   "metadata": {},
   "outputs": [
    {
     "data": {
      "text/html": [
       "<div>\n",
       "<style scoped>\n",
       "    .dataframe tbody tr th:only-of-type {\n",
       "        vertical-align: middle;\n",
       "    }\n",
       "\n",
       "    .dataframe tbody tr th {\n",
       "        vertical-align: top;\n",
       "    }\n",
       "\n",
       "    .dataframe thead th {\n",
       "        text-align: right;\n",
       "    }\n",
       "</style>\n",
       "<table border=\"1\" class=\"dataframe\">\n",
       "  <thead>\n",
       "    <tr style=\"text-align: right;\">\n",
       "      <th></th>\n",
       "      <th>age</th>\n",
       "      <th>income</th>\n",
       "      <th>gender</th>\n",
       "      <th>department</th>\n",
       "      <th>grade</th>\n",
       "      <th>performance_score</th>\n",
       "    </tr>\n",
       "    <tr>\n",
       "      <th>name</th>\n",
       "      <th></th>\n",
       "      <th></th>\n",
       "      <th></th>\n",
       "      <th></th>\n",
       "      <th></th>\n",
       "      <th></th>\n",
       "    </tr>\n",
       "  </thead>\n",
       "  <tbody>\n",
       "    <tr>\n",
       "      <th>S Kumar</th>\n",
       "      <td>NaN</td>\n",
       "      <td>16000.0</td>\n",
       "      <td>F</td>\n",
       "      <td>Finance</td>\n",
       "      <td>G0</td>\n",
       "      <td>520</td>\n",
       "    </tr>\n",
       "    <tr>\n",
       "      <th>Jack Morgan</th>\n",
       "      <td>32.0</td>\n",
       "      <td>35000.0</td>\n",
       "      <td>M</td>\n",
       "      <td>Finance</td>\n",
       "      <td>G2</td>\n",
       "      <td>674</td>\n",
       "    </tr>\n",
       "    <tr>\n",
       "      <th>Ying Chin</th>\n",
       "      <td>45.0</td>\n",
       "      <td>65000.0</td>\n",
       "      <td>F</td>\n",
       "      <td>Sales</td>\n",
       "      <td>G3</td>\n",
       "      <td>556</td>\n",
       "    </tr>\n",
       "    <tr>\n",
       "      <th>Satyam Sharma</th>\n",
       "      <td>NaN</td>\n",
       "      <td>62000.0</td>\n",
       "      <td>NaN</td>\n",
       "      <td>Sales</td>\n",
       "      <td>G3</td>\n",
       "      <td>649</td>\n",
       "    </tr>\n",
       "  </tbody>\n",
       "</table>\n",
       "</div>"
      ],
      "text/plain": [
       "                age   income gender department grade  performance_score\n",
       "name                                                                   \n",
       "S Kumar         NaN  16000.0      F    Finance    G0                520\n",
       "Jack Morgan    32.0  35000.0      M    Finance    G2                674\n",
       "Ying Chin      45.0  65000.0      F      Sales    G3                556\n",
       "Satyam Sharma   NaN  62000.0    NaN      Sales    G3                649"
      ]
     },
     "execution_count": 37,
     "metadata": {},
     "output_type": "execute_result"
    }
   ],
   "source": [
    "emp_data[(emp_data['performance_score']>500) &(emp_data['performance_score']<700)]"
   ]
  },
  {
   "cell_type": "markdown",
   "id": "bcf1664b",
   "metadata": {},
   "source": [
    "# 7) Check and handle missing values in the dataset"
   ]
  },
  {
   "cell_type": "code",
   "execution_count": 41,
   "id": "cd55ae71",
   "metadata": {},
   "outputs": [
    {
     "data": {
      "text/plain": [
       "age                  2\n",
       "income               2\n",
       "gender               2\n",
       "department           0\n",
       "grade                0\n",
       "performance_score    0\n",
       "dtype: int64"
      ]
     },
     "execution_count": 41,
     "metadata": {},
     "output_type": "execute_result"
    }
   ],
   "source": [
    "emp_data.isna().sum()"
   ]
  },
  {
   "cell_type": "code",
   "execution_count": 44,
   "id": "2b25cb78",
   "metadata": {},
   "outputs": [
    {
     "data": {
      "text/plain": [
       "array([[<AxesSubplot:title={'center':'age'}>,\n",
       "        <AxesSubplot:title={'center':'income'}>]], dtype=object)"
      ]
     },
     "execution_count": 44,
     "metadata": {},
     "output_type": "execute_result"
    },
    {
     "data": {
      "image/png": "[encoded data removed]",
      "text/plain": [
       "<Figure size 576x576 with 2 Axes>"
      ]
     },
     "metadata": {
      "needs_background": "light"
     },
     "output_type": "display_data"
    }
   ],
   "source": [
    "continuous_data=emp_data[['age','income']]\n",
    "continuous_data.hist(figsize=(8,8))"
   ]
  },
  {
   "cell_type": "code",
   "execution_count": 47,
   "id": "8054d9ad",
   "metadata": {},
   "outputs": [
    {
     "data": {
      "text/html": [
       "<div>\n",
       "<style scoped>\n",
       "    .dataframe tbody tr th:only-of-type {\n",
       "        vertical-align: middle;\n",
       "    }\n",
       "\n",
       "    .dataframe tbody tr th {\n",
       "        vertical-align: top;\n",
       "    }\n",
       "\n",
       "    .dataframe thead th {\n",
       "        text-align: right;\n",
       "    }\n",
       "</style>\n",
       "<table border=\"1\" class=\"dataframe\">\n",
       "  <thead>\n",
       "    <tr style=\"text-align: right;\">\n",
       "      <th></th>\n",
       "      <th>age</th>\n",
       "      <th>income</th>\n",
       "      <th>gender</th>\n",
       "      <th>department</th>\n",
       "      <th>grade</th>\n",
       "      <th>performance_score</th>\n",
       "    </tr>\n",
       "    <tr>\n",
       "      <th>name</th>\n",
       "      <th></th>\n",
       "      <th></th>\n",
       "      <th></th>\n",
       "      <th></th>\n",
       "      <th></th>\n",
       "      <th></th>\n",
       "    </tr>\n",
       "  </thead>\n",
       "  <tbody>\n",
       "    <tr>\n",
       "      <th>Allen Smith</th>\n",
       "      <td>45.0</td>\n",
       "      <td>52000.0</td>\n",
       "      <td>F</td>\n",
       "      <td>Operations</td>\n",
       "      <td>G3</td>\n",
       "      <td>723</td>\n",
       "    </tr>\n",
       "    <tr>\n",
       "      <th>S Kumar</th>\n",
       "      <td>45.0</td>\n",
       "      <td>16000.0</td>\n",
       "      <td>F</td>\n",
       "      <td>Finance</td>\n",
       "      <td>G0</td>\n",
       "      <td>520</td>\n",
       "    </tr>\n",
       "    <tr>\n",
       "      <th>Jack Morgan</th>\n",
       "      <td>32.0</td>\n",
       "      <td>35000.0</td>\n",
       "      <td>M</td>\n",
       "      <td>Finance</td>\n",
       "      <td>G2</td>\n",
       "      <td>674</td>\n",
       "    </tr>\n",
       "    <tr>\n",
       "      <th>Ying Chin</th>\n",
       "      <td>45.0</td>\n",
       "      <td>65000.0</td>\n",
       "      <td>F</td>\n",
       "      <td>Sales</td>\n",
       "      <td>G3</td>\n",
       "      <td>556</td>\n",
       "    </tr>\n",
       "    <tr>\n",
       "      <th>Dheeraj Patel</th>\n",
       "      <td>30.0</td>\n",
       "      <td>42000.0</td>\n",
       "      <td>F</td>\n",
       "      <td>Operations</td>\n",
       "      <td>G2</td>\n",
       "      <td>711</td>\n",
       "    </tr>\n",
       "    <tr>\n",
       "      <th>Satyam Sharma</th>\n",
       "      <td>45.0</td>\n",
       "      <td>62000.0</td>\n",
       "      <td>F</td>\n",
       "      <td>Sales</td>\n",
       "      <td>G3</td>\n",
       "      <td>649</td>\n",
       "    </tr>\n",
       "    <tr>\n",
       "      <th>James Authur</th>\n",
       "      <td>54.0</td>\n",
       "      <td>52000.0</td>\n",
       "      <td>F</td>\n",
       "      <td>Operations</td>\n",
       "      <td>G3</td>\n",
       "      <td>53</td>\n",
       "    </tr>\n",
       "    <tr>\n",
       "      <th>Josh Wills</th>\n",
       "      <td>54.0</td>\n",
       "      <td>52000.0</td>\n",
       "      <td>F</td>\n",
       "      <td>Finance</td>\n",
       "      <td>G3</td>\n",
       "      <td>901</td>\n",
       "    </tr>\n",
       "    <tr>\n",
       "      <th>Leo Duck</th>\n",
       "      <td>23.0</td>\n",
       "      <td>98000.0</td>\n",
       "      <td>M</td>\n",
       "      <td>Sales</td>\n",
       "      <td>G4</td>\n",
       "      <td>709</td>\n",
       "    </tr>\n",
       "  </tbody>\n",
       "</table>\n",
       "</div>"
      ],
      "text/plain": [
       "                age   income gender  department grade  performance_score\n",
       "name                                                                    \n",
       "Allen Smith    45.0  52000.0      F  Operations    G3                723\n",
       "S Kumar        45.0  16000.0      F     Finance    G0                520\n",
       "Jack Morgan    32.0  35000.0      M     Finance    G2                674\n",
       "Ying Chin      45.0  65000.0      F       Sales    G3                556\n",
       "Dheeraj Patel  30.0  42000.0      F  Operations    G2                711\n",
       "Satyam Sharma  45.0  62000.0      F       Sales    G3                649\n",
       "James Authur   54.0  52000.0      F  Operations    G3                 53\n",
       "Josh Wills     54.0  52000.0      F     Finance    G3                901\n",
       "Leo Duck       23.0  98000.0      M       Sales    G4                709"
      ]
     },
     "execution_count": 47,
     "metadata": {},
     "output_type": "execute_result"
    }
   ],
   "source": [
    "emp_data['age']=emp_data['age'].fillna(emp_data['age'].median())\n",
    "emp_data['income']=emp_data['income'].fillna(emp_data['income'].median())\n",
    "emp_data['gender']=emp_data['gender'].fillna(emp_data['gender'].mode().loc[0])\n",
    "emp_data"
   ]
  },
  {
   "cell_type": "markdown",
   "id": "02a30803",
   "metadata": {},
   "source": [
    "# 8) Check  the outliers and handle ouliers in performance score percentile"
   ]
  },
  {
   "cell_type": "code",
   "execution_count": 49,
   "id": "6a1b3fb3",
   "metadata": {},
   "outputs": [
    {
     "data": {
      "text/plain": [
       "Text(0.5, 1.0, 'Check for the Outliers')"
      ]
     },
     "execution_count": 49,
     "metadata": {},
     "output_type": "execute_result"
    },
    {
     "data": {
      "image/png": "[encoded data removed]",
      "text/plain": [
       "<Figure size 432x288 with 1 Axes>"
      ]
     },
     "metadata": {
      "needs_background": "light"
     },
     "output_type": "display_data"
    }
   ],
   "source": [
    "plt.boxplot(emp_data['performance_score'])\n",
    "plt.title('Check for the Outliers')"
   ]
  },
  {
   "cell_type": "code",
   "execution_count": 50,
   "id": "3dcea148",
   "metadata": {},
   "outputs": [
    {
     "name": "stdout",
     "output_type": "stream",
     "text": [
      "323.5\n",
      "943.5\n"
     ]
    }
   ],
   "source": [
    "Q1=np.percentile(emp_data['performance_score'],25, interpolation='midpoint')\n",
    "Q2=np.percentile(emp_data['performance_score'],50, interpolation='midpoint')\n",
    "Q3=np.percentile(emp_data['performance_score'],75, interpolation='midpoint')\n",
    "\n",
    "IQR=Q3-Q1\n",
    "\n",
    "low_lim = Q1-1.5*IQR\n",
    "up_lim = Q3+ 1.5*IQR\n",
    "\n",
    "print(low_lim)\n",
    "print(up_lim)"
   ]
  },
  {
   "cell_type": "code",
   "execution_count": 51,
   "id": "46dd1ceb",
   "metadata": {},
   "outputs": [],
   "source": [
    "outlier=[]\n",
    "for i in emp_data['performance_score']:\n",
    "    if((i<low_lim)or(i>up_lim)):\n",
    "        outlier.append(i)\n",
    "        "
   ]
  },
  {
   "cell_type": "code",
   "execution_count": 52,
   "id": "14e55583",
   "metadata": {},
   "outputs": [
    {
     "data": {
      "text/plain": [
       "[53]"
      ]
     },
     "execution_count": 52,
     "metadata": {},
     "output_type": "execute_result"
    }
   ],
   "source": [
    "outlier"
   ]
  },
  {
   "cell_type": "code",
   "execution_count": 53,
   "id": "ccbf1e55",
   "metadata": {},
   "outputs": [
    {
     "data": {
      "text/plain": [
       "Index(['James Authur'], dtype='object', name='name')"
      ]
     },
     "execution_count": 53,
     "metadata": {},
     "output_type": "execute_result"
    }
   ],
   "source": [
    "ind=emp_data['performance_score']<low_lim\n",
    "emp_data.loc[ind].index"
   ]
  },
  {
   "cell_type": "code",
   "execution_count": 57,
   "id": "1b74c2f7",
   "metadata": {},
   "outputs": [],
   "source": [
    "emp_data.drop(['James Authur'],inplace=True)"
   ]
  },
  {
   "cell_type": "code",
   "execution_count": 58,
   "id": "c9a03df1",
   "metadata": {},
   "outputs": [
    {
     "data": {
      "text/plain": [
       "Text(0.5, 1.0, 'Box plot of performance_score')"
      ]
     },
     "execution_count": 58,
     "metadata": {},
     "output_type": "execute_result"
    },
    {
     "data": {
      "image/png": "[encoded data removed]",
      "text/plain": [
       "<Figure size 432x288 with 1 Axes>"
      ]
     },
     "metadata": {
      "needs_background": "light"
     },
     "output_type": "display_data"
    }
   ],
   "source": [
    "plt.boxplot(emp_data['performance_score'])\n",
    "plt.title('Box plot of performance_score')"
   ]
  },
  {
   "cell_type": "markdown",
   "id": "a1dbcf3b",
   "metadata": {},
   "source": [
    "# 9) Check the gender column and do Dummy encoding"
   ]
  },
  {
   "cell_type": "code",
   "execution_count": 59,
   "id": "5a0fd69f",
   "metadata": {},
   "outputs": [],
   "source": [
    "new_emp_data=pd.get_dummies(emp_data, columns=['gender'])"
   ]
  },
  {
   "cell_type": "code",
   "execution_count": 60,
   "id": "6ef7709d",
   "metadata": {},
   "outputs": [
    {
     "data": {
      "text/html": [
       "<div>\n",
       "<style scoped>\n",
       "    .dataframe tbody tr th:only-of-type {\n",
       "        vertical-align: middle;\n",
       "    }\n",
       "\n",
       "    .dataframe tbody tr th {\n",
       "        vertical-align: top;\n",
       "    }\n",
       "\n",
       "    .dataframe thead th {\n",
       "        text-align: right;\n",
       "    }\n",
       "</style>\n",
       "<table border=\"1\" class=\"dataframe\">\n",
       "  <thead>\n",
       "    <tr style=\"text-align: right;\">\n",
       "      <th></th>\n",
       "      <th>age</th>\n",
       "      <th>income</th>\n",
       "      <th>department</th>\n",
       "      <th>grade</th>\n",
       "      <th>performance_score</th>\n",
       "      <th>gender_F</th>\n",
       "      <th>gender_M</th>\n",
       "    </tr>\n",
       "    <tr>\n",
       "      <th>name</th>\n",
       "      <th></th>\n",
       "      <th></th>\n",
       "      <th></th>\n",
       "      <th></th>\n",
       "      <th></th>\n",
       "      <th></th>\n",
       "      <th></th>\n",
       "    </tr>\n",
       "  </thead>\n",
       "  <tbody>\n",
       "    <tr>\n",
       "      <th>Allen Smith</th>\n",
       "      <td>45.0</td>\n",
       "      <td>52000.0</td>\n",
       "      <td>Operations</td>\n",
       "      <td>G3</td>\n",
       "      <td>723</td>\n",
       "      <td>1</td>\n",
       "      <td>0</td>\n",
       "    </tr>\n",
       "    <tr>\n",
       "      <th>S Kumar</th>\n",
       "      <td>45.0</td>\n",
       "      <td>16000.0</td>\n",
       "      <td>Finance</td>\n",
       "      <td>G0</td>\n",
       "      <td>520</td>\n",
       "      <td>1</td>\n",
       "      <td>0</td>\n",
       "    </tr>\n",
       "    <tr>\n",
       "      <th>Jack Morgan</th>\n",
       "      <td>32.0</td>\n",
       "      <td>35000.0</td>\n",
       "      <td>Finance</td>\n",
       "      <td>G2</td>\n",
       "      <td>674</td>\n",
       "      <td>0</td>\n",
       "      <td>1</td>\n",
       "    </tr>\n",
       "    <tr>\n",
       "      <th>Ying Chin</th>\n",
       "      <td>45.0</td>\n",
       "      <td>65000.0</td>\n",
       "      <td>Sales</td>\n",
       "      <td>G3</td>\n",
       "      <td>556</td>\n",
       "      <td>1</td>\n",
       "      <td>0</td>\n",
       "    </tr>\n",
       "    <tr>\n",
       "      <th>Dheeraj Patel</th>\n",
       "      <td>30.0</td>\n",
       "      <td>42000.0</td>\n",
       "      <td>Operations</td>\n",
       "      <td>G2</td>\n",
       "      <td>711</td>\n",
       "      <td>1</td>\n",
       "      <td>0</td>\n",
       "    </tr>\n",
       "    <tr>\n",
       "      <th>Satyam Sharma</th>\n",
       "      <td>45.0</td>\n",
       "      <td>62000.0</td>\n",
       "      <td>Sales</td>\n",
       "      <td>G3</td>\n",
       "      <td>649</td>\n",
       "      <td>1</td>\n",
       "      <td>0</td>\n",
       "    </tr>\n",
       "    <tr>\n",
       "      <th>Josh Wills</th>\n",
       "      <td>54.0</td>\n",
       "      <td>52000.0</td>\n",
       "      <td>Finance</td>\n",
       "      <td>G3</td>\n",
       "      <td>901</td>\n",
       "      <td>1</td>\n",
       "      <td>0</td>\n",
       "    </tr>\n",
       "    <tr>\n",
       "      <th>Leo Duck</th>\n",
       "      <td>23.0</td>\n",
       "      <td>98000.0</td>\n",
       "      <td>Sales</td>\n",
       "      <td>G4</td>\n",
       "      <td>709</td>\n",
       "      <td>0</td>\n",
       "      <td>1</td>\n",
       "    </tr>\n",
       "  </tbody>\n",
       "</table>\n",
       "</div>"
      ],
      "text/plain": [
       "                age   income  department grade  performance_score  gender_F  \\\n",
       "name                                                                          \n",
       "Allen Smith    45.0  52000.0  Operations    G3                723         1   \n",
       "S Kumar        45.0  16000.0     Finance    G0                520         1   \n",
       "Jack Morgan    32.0  35000.0     Finance    G2                674         0   \n",
       "Ying Chin      45.0  65000.0       Sales    G3                556         1   \n",
       "Dheeraj Patel  30.0  42000.0  Operations    G2                711         1   \n",
       "Satyam Sharma  45.0  62000.0       Sales    G3                649         1   \n",
       "Josh Wills     54.0  52000.0     Finance    G3                901         1   \n",
       "Leo Duck       23.0  98000.0       Sales    G4                709         0   \n",
       "\n",
       "               gender_M  \n",
       "name                     \n",
       "Allen Smith           0  \n",
       "S Kumar               0  \n",
       "Jack Morgan           1  \n",
       "Ying Chin             0  \n",
       "Dheeraj Patel         0  \n",
       "Satyam Sharma         0  \n",
       "Josh Wills            0  \n",
       "Leo Duck              1  "
      ]
     },
     "execution_count": 60,
     "metadata": {},
     "output_type": "execute_result"
    }
   ],
   "source": [
    "new_emp_data"
   ]
  },
  {
   "cell_type": "markdown",
   "id": "03df1b63",
   "metadata": {},
   "source": [
    "# 10) Do the Standard Scaling on the feature performance score"
   ]
  },
  {
   "cell_type": "code",
   "execution_count": 61,
   "id": "0340095f",
   "metadata": {},
   "outputs": [],
   "source": [
    "from sklearn import preprocessing"
   ]
  },
  {
   "cell_type": "code",
   "execution_count": 62,
   "id": "90283b84",
   "metadata": {},
   "outputs": [],
   "source": [
    "x=pd.DataFrame(emp_data['performance_score'])"
   ]
  },
  {
   "cell_type": "code",
   "execution_count": 66,
   "id": "a4b96105",
   "metadata": {},
   "outputs": [
    {
     "data": {
      "text/html": [
       "<div>\n",
       "<style scoped>\n",
       "    .dataframe tbody tr th:only-of-type {\n",
       "        vertical-align: middle;\n",
       "    }\n",
       "\n",
       "    .dataframe tbody tr th {\n",
       "        vertical-align: top;\n",
       "    }\n",
       "\n",
       "    .dataframe thead th {\n",
       "        text-align: right;\n",
       "    }\n",
       "</style>\n",
       "<table border=\"1\" class=\"dataframe\">\n",
       "  <thead>\n",
       "    <tr style=\"text-align: right;\">\n",
       "      <th></th>\n",
       "      <th>0</th>\n",
       "    </tr>\n",
       "  </thead>\n",
       "  <tbody>\n",
       "    <tr>\n",
       "      <th>count</th>\n",
       "      <td>8.000000e+00</td>\n",
       "    </tr>\n",
       "    <tr>\n",
       "      <th>mean</th>\n",
       "      <td>4.857226e-17</td>\n",
       "    </tr>\n",
       "    <tr>\n",
       "      <th>std</th>\n",
       "      <td>1.069045e+00</td>\n",
       "    </tr>\n",
       "    <tr>\n",
       "      <th>min</th>\n",
       "      <td>-1.475872e+00</td>\n",
       "    </tr>\n",
       "    <tr>\n",
       "      <th>25%</th>\n",
       "      <td>-5.026938e-01</td>\n",
       "    </tr>\n",
       "    <tr>\n",
       "      <th>50%</th>\n",
       "      <td>1.023793e-01</td>\n",
       "    </tr>\n",
       "    <tr>\n",
       "      <th>75%</th>\n",
       "      <td>3.094385e-01</td>\n",
       "    </tr>\n",
       "    <tr>\n",
       "      <th>max</th>\n",
       "      <td>2.030331e+00</td>\n",
       "    </tr>\n",
       "  </tbody>\n",
       "</table>\n",
       "</div>"
      ],
      "text/plain": [
       "                  0\n",
       "count  8.000000e+00\n",
       "mean   4.857226e-17\n",
       "std    1.069045e+00\n",
       "min   -1.475872e+00\n",
       "25%   -5.026938e-01\n",
       "50%    1.023793e-01\n",
       "75%    3.094385e-01\n",
       "max    2.030331e+00"
      ]
     },
     "execution_count": 66,
     "metadata": {},
     "output_type": "execute_result"
    }
   ],
   "source": [
    "Standardisation = preprocessing.StandardScaler()\n",
    "x=Standardisation.fit_transform(x)\n",
    "x=pd.DataFrame(x)\n",
    "x.describe()"
   ]
  }
 ],
 "metadata": {
  "kernelspec": {
   "display_name": "Python 3 (ipykernel)",
   "language": "python",
   "name": "python3"
  },
  "language_info": {
   "codemirror_mode": {
    "name": "ipython",
    "version": 3
   },
   "file_extension": ".py",
   "mimetype": "text/x-python",
   "name": "python",
   "nbconvert_exporter": "python",
   "pygments_lexer": "ipython3",
   "version": "3.9.7"
  }
 },
 "nbformat": 4,
 "nbformat_minor": 5
}
